{
  "nbformat": 4,
  "nbformat_minor": 0,
  "metadata": {
    "colab": {
      "provenance": [],
      "authorship_tag": "ABX9TyPRrOl1/oOnVxxyBGQP2Xj0",
      "include_colab_link": true
    },
    "kernelspec": {
      "name": "python3",
      "display_name": "Python 3"
    },
    "language_info": {
      "name": "python"
    }
  },
  "cells": [
    {
      "cell_type": "markdown",
      "metadata": {
        "id": "view-in-github",
        "colab_type": "text"
      },
      "source": [
        "<a href=\"https://colab.research.google.com/github/suajeong52/heaveMPM/blob/main/0509_TEST_MFK.ipynb\" target=\"_parent\"><img src=\"https://colab.research.google.com/assets/colab-badge.svg\" alt=\"Open In Colab\"/></a>"
      ]
    },
    {
      "cell_type": "code",
      "source": [
        "!pip install smt"
      ],
      "metadata": {
        "id": "SNUzTImGgjAL",
        "colab": {
          "base_uri": "https://localhost:8080/"
        },
        "outputId": "21c3e501-c781-4b0a-b8d9-431a61b69b96"
      },
      "execution_count": 1,
      "outputs": [
        {
          "output_type": "stream",
          "name": "stdout",
          "text": [
            "Looking in indexes: https://pypi.org/simple, https://us-python.pkg.dev/colab-wheels/public/simple/\n",
            "Collecting smt\n",
            "  Downloading smt-1.3.0.tar.gz (256 kB)\n",
            "\u001b[2K     \u001b[90m━━━━━━━━━━━━━━━━━━━━━━━━━━━━━━━━━━━━━━━\u001b[0m \u001b[32m256.1/256.1 kB\u001b[0m \u001b[31m4.6 MB/s\u001b[0m eta \u001b[36m0:00:00\u001b[0m\n",
            "\u001b[?25h  Installing build dependencies ... \u001b[?25l\u001b[?25hdone\n",
            "  Getting requirements to build wheel ... \u001b[?25l\u001b[?25hdone\n",
            "  Preparing metadata (pyproject.toml) ... \u001b[?25l\u001b[?25hdone\n",
            "Requirement already satisfied: scipy in /usr/local/lib/python3.10/dist-packages (from smt) (1.10.1)\n",
            "Collecting pyDOE2\n",
            "  Downloading pyDOE2-1.3.0.tar.gz (19 kB)\n",
            "  Preparing metadata (setup.py) ... \u001b[?25l\u001b[?25hdone\n",
            "Requirement already satisfied: scikit-learn in /usr/local/lib/python3.10/dist-packages (from smt) (1.2.2)\n",
            "Requirement already satisfied: numpy in /usr/local/lib/python3.10/dist-packages (from pyDOE2->smt) (1.22.4)\n",
            "Requirement already satisfied: threadpoolctl>=2.0.0 in /usr/local/lib/python3.10/dist-packages (from scikit-learn->smt) (3.1.0)\n",
            "Requirement already satisfied: joblib>=1.1.1 in /usr/local/lib/python3.10/dist-packages (from scikit-learn->smt) (1.2.0)\n",
            "Building wheels for collected packages: smt, pyDOE2\n",
            "  Building wheel for smt (pyproject.toml) ... \u001b[?25l\u001b[?25hdone\n",
            "  Created wheel for smt: filename=smt-1.3.0-cp310-cp310-linux_x86_64.whl size=654317 sha256=be89be8a26bfac86c1a44954cb72b4ec6c19c26659e9132052a9bb4215b89216\n",
            "  Stored in directory: /root/.cache/pip/wheels/3b/d3/c7/5455cf3d853cb05d5b2e50ffc8085af8f2a31e15b4718a3bd9\n",
            "  Building wheel for pyDOE2 (setup.py) ... \u001b[?25l\u001b[?25hdone\n",
            "  Created wheel for pyDOE2: filename=pyDOE2-1.3.0-py3-none-any.whl size=25537 sha256=00c95e4fd0ed8d8303b5c55439147937948ce3f52f9bbb99e1a07219218a5a22\n",
            "  Stored in directory: /root/.cache/pip/wheels/46/1f/29/6fda5c72f950841e39147ae603780ee913a62f977b4ad47ee4\n",
            "Successfully built smt pyDOE2\n",
            "Installing collected packages: pyDOE2, smt\n",
            "Successfully installed pyDOE2-1.3.0 smt-1.3.0\n"
          ]
        }
      ]
    },
    {
      "cell_type": "code",
      "source": [
        "import numpy as np\n",
        "from smt.sampling_methods import LHS\n",
        "from smt.utils import compute_rms_error\n",
        "from smt.applications import MFK\n",
        "import matplotlib.pyplot as plt\n",
        "import pandas as pd"
      ],
      "metadata": {
        "id": "2hlq09hhgh2K"
      },
      "execution_count": 3,
      "outputs": []
    },
    {
      "cell_type": "code",
      "source": [
        "xH = pd.read_excel('xt_H.xlsx', usecols=[1]).values\n",
        "xL = pd.read_excel('xt_L.xlsx', usecols=[1]).values\n",
        "\n",
        "yH = pd.read_excel('mpmH.xlsx', usecols=[1]).values\n",
        "yL = pd.read_excel('mpmL.xlsx', usecols=[1]).values\n",
        "\n",
        "\n",
        "\n",
        "# Sample the test points using LHS\n",
        "xlimits = np.array([[19.00, 20.00]])\n",
        "sampling = LHS(xlimits=xlimits, criterion='ese', random_state=1)\n",
        "\n",
        "test_num = 3\n",
        "X_test = sampling(test_num)\n",
        "\n",
        "\n",
        "# Fit the MFK model\n",
        "sm = MFK(theta0=xH.shape[1] * [1.0], print_prediction=True)\n",
        "\n",
        "\n",
        "sm.set_training_values(xH, yH)\n",
        "# high-fidelity dataset without name\n",
        "sm.set_training_values(xL, yL, name=0)\n",
        "\n",
        "\n",
        "sm.train()\n",
        "\n",
        "# Predict on the test points\n",
        "y_pred= sm.predict_values(X_test)\n",
        "mse = sm.predict_variances(X_test)\n",
        "derivs = sm.predict_derivatives(X_test, kx=0)\n"
      ],
      "metadata": {
        "colab": {
          "base_uri": "https://localhost:8080/"
        },
        "id": "2TJl1unJlLQR",
        "outputId": "12122f90-7d58-4ed4-88d8-d1f8aa2bab44"
      },
      "execution_count": 12,
      "outputs": [
        {
          "output_type": "stream",
          "name": "stdout",
          "text": [
            "___________________________________________________________________________\n",
            "   \n",
            "                                    MFK\n",
            "___________________________________________________________________________\n",
            "   \n",
            " Problem size\n",
            "   \n",
            "      # training points.        : 7\n",
            "   \n",
            "___________________________________________________________________________\n",
            "   \n",
            " Training\n",
            "   \n",
            "   Training ...\n",
            "   Training - done. Time (sec):  0.2317982\n",
            "___________________________________________________________________________\n",
            "   \n",
            " Evaluation\n",
            "   \n",
            "      # eval points. : 3\n",
            "   \n",
            "   Predicting ...\n",
            "   Predicting - done. Time (sec):  0.0009539\n",
            "   \n",
            "   Prediction time/pt. (sec) :  0.0003180\n",
            "   \n",
            "___________________________________________________________________________\n",
            "   \n",
            " Evaluation\n",
            "   \n",
            "      # eval points. : 3\n",
            "   \n",
            "   Predicting ...\n",
            "   Predicting - done. Time (sec):  0.0009916\n",
            "   \n",
            "   Prediction time/pt. (sec) :  0.0003305\n",
            "   \n"
          ]
        }
      ]
    },
    {
      "cell_type": "code",
      "source": [
        "plt.figure()\n",
        "\n",
        "#plt.plot(X_test, y_pred, label=\"reference\")\n",
        "plt.scatter(X_test, y_pred, marker=\"x\",color=\"b\", label=\"mean_gp\")\n",
        "plt.scatter(xH, yH, marker=\"o\", color=\"k\", label=\"HF doe\")\n",
        "plt.scatter(xL, yL, marker=\"*\", color=\"g\", label=\"LF doe\")\n",
        "\n",
        "plt.legend(loc=0)\n",
        "#plt.ylim(-10, 17)\n",
        "#plt.xlim(-0.1, 1.1)\n",
        "plt.xlabel(r\"$x$\")\n",
        "plt.ylabel(r\"$y$\")\n",
        "\n",
        "plt.show()"
      ],
      "metadata": {
        "colab": {
          "base_uri": "https://localhost:8080/",
          "height": 449
        },
        "id": "7aJNupd8l23k",
        "outputId": "c408d36d-33a8-4abf-8ede-20fad638a98c"
      },
      "execution_count": 13,
      "outputs": [
        {
          "output_type": "display_data",
          "data": {
            "text/plain": [
              "<Figure size 640x480 with 1 Axes>"
            ],
            "image/png": "[encoded data removed]"
          },
          "metadata": {}
        }
      ]
    },
    {
      "cell_type": "code",
      "source": [
        "print(X_test)\n",
        "print(y_pred)"
      ],
      "metadata": {
        "colab": {
          "base_uri": "https://localhost:8080/"
        },
        "id": "Ozibm7261iCA",
        "outputId": "6ffd2ef2-2363-48c4-c5cf-5db5f5d08c51"
      },
      "execution_count": 14,
      "outputs": [
        {
          "output_type": "stream",
          "name": "stdout",
          "text": [
            "[[19.13900733]\n",
            " [19.66670479]\n",
            " [19.5734415 ]]\n",
            "[[0.04529023]\n",
            " [0.04554028]\n",
            " [0.04563886]]\n"
          ]
        }
      ]
    },
    {
      "cell_type": "code",
      "source": [
        "y_real = pd.read_excel('mpmtest.xlsx', usecols=[1]).values\n",
        "print(y_real)"
      ],
      "metadata": {
        "colab": {
          "base_uri": "https://localhost:8080/"
        },
        "id": "P4hANAFDOfBl",
        "outputId": "e96ba302-22e5-4a3a-d8a3-6fb4f72a438f"
      },
      "execution_count": 16,
      "outputs": [
        {
          "output_type": "stream",
          "name": "stdout",
          "text": [
            "[[0.04563615]\n",
            " [0.04607022]\n",
            " [0.04606842]]\n"
          ]
        }
      ]
    },
    {
      "cell_type": "code",
      "source": [
        "#mesh low로 구했을때의 정확도? 비율?\n",
        "yP = y_pred/y_real\n",
        "print(yP)"
      ],
      "metadata": {
        "colab": {
          "base_uri": "https://localhost:8080/"
        },
        "id": "G8K7D_21Oyst",
        "outputId": "8dad3012-53f9-4172-c436-6aa84ff7429b"
      },
      "execution_count": 17,
      "outputs": [
        {
          "output_type": "stream",
          "name": "stdout",
          "text": [
            "[[0.99242008]\n",
            " [0.98849714]\n",
            " [0.99067566]]\n"
          ]
        }
      ]
    },
    {
      "cell_type": "code",
      "source": [],
      "metadata": {
        "id": "SWKvjuwAS4kd"
      },
      "execution_count": null,
      "outputs": []
    }
  ]
}