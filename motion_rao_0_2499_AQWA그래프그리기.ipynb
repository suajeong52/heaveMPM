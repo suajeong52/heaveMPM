{
  "nbformat": 4,
  "nbformat_minor": 0,
  "metadata": {
    "colab": {
      "provenance": [],
      "authorship_tag": "ABX9TyNfmbC7QX1d+ETAU262Euof",
      "include_colab_link": true
    },
    "kernelspec": {
      "name": "python3",
      "display_name": "Python 3"
    },
    "language_info": {
      "name": "python"
    }
  },
  "cells": [
    {
      "cell_type": "markdown",
      "metadata": {
        "id": "view-in-github",
        "colab_type": "text"
      },
      "source": [
        "<a href=\"https://colab.research.google.com/github/suajeong52/heaveMPM/blob/main/motion_rao_0_2499_AQWA%EA%B7%B8%EB%9E%98%ED%94%84%EA%B7%B8%EB%A6%AC%EA%B8%B0.ipynb\" target=\"_parent\"><img src=\"https://colab.research.google.com/assets/colab-badge.svg\" alt=\"Open In Colab\"/></a>"
      ]
    },
    {
      "cell_type": "markdown",
      "source": [
        "**데이터 불러오기**"
      ],
      "metadata": {
        "id": "n0EjEZlH0ars"
      }
    },
    {
      "cell_type": "code",
      "execution_count": 1,
      "metadata": {
        "colab": {
          "base_uri": "https://localhost:8080/",
          "height": 183
        },
        "id": "qFpCM6PlG15t",
        "outputId": "2c74de4a-da5c-480d-a99c-26f305f3b500"
      },
      "outputs": [
        {
          "output_type": "display_data",
          "data": {
            "text/plain": [
              "<IPython.core.display.HTML object>"
            ],
            "text/html": [
              "\n",
              "     <input type=\"file\" id=\"files-2c378c8e-100a-4e19-9047-06cb794cc3cc\" name=\"files[]\" multiple disabled\n",
              "        style=\"border:none\" />\n",
              "     <output id=\"result-2c378c8e-100a-4e19-9047-06cb794cc3cc\">\n",
              "      Upload widget is only available when the cell has been executed in the\n",
              "      current browser session. Please rerun this cell to enable.\n",
              "      </output>\n",
              "      <script>// Copyright 2017 Google LLC\n",
              "//\n",
              "// Licensed under the Apache License, Version 2.0 (the \"License\");\n",
              "// you may not use this file except in compliance with the License.\n",
              "// You may obtain a copy of the License at\n",
              "//\n",
              "//      http://www.apache.org/licenses/LICENSE-2.0\n",
              "//\n",
              "// Unless required by applicable law or agreed to in writing, software\n",
              "// distributed under the License is distributed on an \"AS IS\" BASIS,\n",
              "// WITHOUT WARRANTIES OR CONDITIONS OF ANY KIND, either express or implied.\n",
              "// See the License for the specific language governing permissions and\n",
              "// limitations under the License.\n",
              "\n",
              "/**\n",
              " * @fileoverview Helpers for google.colab Python module.\n",
              " */\n",
              "(function(scope) {\n",
              "function span(text, styleAttributes = {}) {\n",
              "  const element = document.createElement('span');\n",
              "  element.textContent = text;\n",
              "  for (const key of Object.keys(styleAttributes)) {\n",
              "    element.style[key] = styleAttributes[key];\n",
              "  }\n",
              "  return element;\n",
              "}\n",
              "\n",
              "// Max number of bytes which will be uploaded at a time.\n",
              "const MAX_PAYLOAD_SIZE = 100 * 1024;\n",
              "\n",
              "function _uploadFiles(inputId, outputId) {\n",
              "  const steps = uploadFilesStep(inputId, outputId);\n",
              "  const outputElement = document.getElementById(outputId);\n",
              "  // Cache steps on the outputElement to make it available for the next call\n",
              "  // to uploadFilesContinue from Python.\n",
              "  outputElement.steps = steps;\n",
              "\n",
              "  return _uploadFilesContinue(outputId);\n",
              "}\n",
              "\n",
              "// This is roughly an async generator (not supported in the browser yet),\n",
              "// where there are multiple asynchronous steps and the Python side is going\n",
              "// to poll for completion of each step.\n",
              "// This uses a Promise to block the python side on completion of each step,\n",
              "// then passes the result of the previous step as the input to the next step.\n",
              "function _uploadFilesContinue(outputId) {\n",
              "  const outputElement = document.getElementById(outputId);\n",
              "  const steps = outputElement.steps;\n",
              "\n",
              "  const next = steps.next(outputElement.lastPromiseValue);\n",
              "  return Promise.resolve(next.value.promise).then((value) => {\n",
              "    // Cache the last promise value to make it available to the next\n",
              "    // step of the generator.\n",
              "    outputElement.lastPromiseValue = value;\n",
              "    return next.value.response;\n",
              "  });\n",
              "}\n",
              "\n",
              "/**\n",
              " * Generator function which is called between each async step of the upload\n",
              " * process.\n",
              " * @param {string} inputId Element ID of the input file picker element.\n",
              " * @param {string} outputId Element ID of the output display.\n",
              " * @return {!Iterable<!Object>} Iterable of next steps.\n",
              " */\n",
              "function* uploadFilesStep(inputId, outputId) {\n",
              "  const inputElement = document.getElementById(inputId);\n",
              "  inputElement.disabled = false;\n",
              "\n",
              "  const outputElement = document.getElementById(outputId);\n",
              "  outputElement.innerHTML = '';\n",
              "\n",
              "  const pickedPromise = new Promise((resolve) => {\n",
              "    inputElement.addEventListener('change', (e) => {\n",
              "      resolve(e.target.files);\n",
              "    });\n",
              "  });\n",
              "\n",
              "  const cancel = document.createElement('button');\n",
              "  inputElement.parentElement.appendChild(cancel);\n",
              "  cancel.textContent = 'Cancel upload';\n",
              "  const cancelPromise = new Promise((resolve) => {\n",
              "    cancel.onclick = () => {\n",
              "      resolve(null);\n",
              "    };\n",
              "  });\n",
              "\n",
              "  // Wait for the user to pick the files.\n",
              "  const files = yield {\n",
              "    promise: Promise.race([pickedPromise, cancelPromise]),\n",
              "    response: {\n",
              "      action: 'starting',\n",
              "    }\n",
              "  };\n",
              "\n",
              "  cancel.remove();\n",
              "\n",
              "  // Disable the input element since further picks are not allowed.\n",
              "  inputElement.disabled = true;\n",
              "\n",
              "  if (!files) {\n",
              "    return {\n",
              "      response: {\n",
              "        action: 'complete',\n",
              "      }\n",
              "    };\n",
              "  }\n",
              "\n",
              "  for (const file of files) {\n",
              "    const li = document.createElement('li');\n",
              "    li.append(span(file.name, {fontWeight: 'bold'}));\n",
              "    li.append(span(\n",
              "        `(${file.type || 'n/a'}) - ${file.size} bytes, ` +\n",
              "        `last modified: ${\n",
              "            file.lastModifiedDate ? file.lastModifiedDate.toLocaleDateString() :\n",
              "                                    'n/a'} - `));\n",
              "    const percent = span('0% done');\n",
              "    li.appendChild(percent);\n",
              "\n",
              "    outputElement.appendChild(li);\n",
              "\n",
              "    const fileDataPromise = new Promise((resolve) => {\n",
              "      const reader = new FileReader();\n",
              "      reader.onload = (e) => {\n",
              "        resolve(e.target.result);\n",
              "      };\n",
              "      reader.readAsArrayBuffer(file);\n",
              "    });\n",
              "    // Wait for the data to be ready.\n",
              "    let fileData = yield {\n",
              "      promise: fileDataPromise,\n",
              "      response: {\n",
              "        action: 'continue',\n",
              "      }\n",
              "    };\n",
              "\n",
              "    // Use a chunked sending to avoid message size limits. See b/62115660.\n",
              "    let position = 0;\n",
              "    do {\n",
              "      const length = Math.min(fileData.byteLength - position, MAX_PAYLOAD_SIZE);\n",
              "      const chunk = new Uint8Array(fileData, position, length);\n",
              "      position += length;\n",
              "\n",
              "      const base64 = btoa(String.fromCharCode.apply(null, chunk));\n",
              "      yield {\n",
              "        response: {\n",
              "          action: 'append',\n",
              "          file: file.name,\n",
              "          data: base64,\n",
              "        },\n",
              "      };\n",
              "\n",
              "      let percentDone = fileData.byteLength === 0 ?\n",
              "          100 :\n",
              "          Math.round((position / fileData.byteLength) * 100);\n",
              "      percent.textContent = `${percentDone}% done`;\n",
              "\n",
              "    } while (position < fileData.byteLength);\n",
              "  }\n",
              "\n",
              "  // All done.\n",
              "  yield {\n",
              "    response: {\n",
              "      action: 'complete',\n",
              "    }\n",
              "  };\n",
              "}\n",
              "\n",
              "scope.google = scope.google || {};\n",
              "scope.google.colab = scope.google.colab || {};\n",
              "scope.google.colab._files = {\n",
              "  _uploadFiles,\n",
              "  _uploadFilesContinue,\n",
              "};\n",
              "})(self);\n",
              "</script> "
            ]
          },
          "metadata": {}
        },
        {
          "output_type": "stream",
          "name": "stdout",
          "text": [
            "Saving 1.6MESH_MRAO_0.2499.csv to 1.6MESH_MRAO_0.2499.csv\n",
            "Saving 2.2MESH_MRAO_0.2499.csv to 2.2MESH_MRAO_0.2499.csv\n",
            "Saving 2.85MESH_MRAO_0.2499.csv to 2.85MESH_MRAO_0.2499.csv\n",
            "Saving 3.25MESH_MRAO_0.2499.csv to 3.25MESH_MRAO_0.2499.csv\n"
          ]
        }
      ],
      "source": [
        "from google.colab import files\n",
        "myfile = files.upload()"
      ]
    },
    {
      "cell_type": "code",
      "source": [
        "import io\n",
        "import pandas as pd"
      ],
      "metadata": {
        "id": "6U5zuxwBH2bp"
      },
      "execution_count": 2,
      "outputs": []
    },
    {
      "cell_type": "code",
      "source": [
        "mesh1_6 = pd.read_csv(io.BytesIO(myfile['1.6MESH_MRAO_0.2499.csv']))\n",
        "mesh2_2 = pd.read_csv(io.BytesIO(myfile['2.2MESH_MRAO_0.2499.csv']))\n",
        "mesh2_85 = pd.read_csv(io.BytesIO(myfile['2.85MESH_MRAO_0.2499.csv']))\n",
        "mesh3_25 = pd.read_csv(io.BytesIO(myfile['3.25MESH_MRAO_0.2499.csv']))\n"
      ],
      "metadata": {
        "id": "B_6g9KSfH4S7"
      },
      "execution_count": 3,
      "outputs": []
    },
    {
      "cell_type": "code",
      "source": [
        "print(mesh1_6)\n",
        "print(mesh2_2)\n",
        "print(mesh2_85)\n",
        "print(mesh3_25)"
      ],
      "metadata": {
        "id": "nnhdKmYtH5hi",
        "colab": {
          "base_uri": "https://localhost:8080/"
        },
        "outputId": "163c66b2-ec61-4e55-dc7c-dd8d07f0033f"
      },
      "execution_count": 4,
      "outputs": [
        {
          "output_type": "stream",
          "name": "stdout",
          "text": [
            "           f         m\n",
            "0    0.00486  0.000000\n",
            "1    0.02154  0.000000\n",
            "2    0.03823  0.000000\n",
            "3    0.04430  0.000000\n",
            "4    0.04847  0.000000\n",
            "..       ...       ...\n",
            "118  1.43316  0.001950\n",
            "119  1.53836  0.000098\n",
            "120  1.61005  0.000416\n",
            "121  1.75123  0.000336\n",
            "122  1.89240  0.000087\n",
            "\n",
            "[123 rows x 2 columns]\n",
            "           f         m\n",
            "0    0.00478  0.000000\n",
            "1    0.02122  0.000000\n",
            "2    0.03765  0.000000\n",
            "3    0.04363  0.000000\n",
            "4    0.04774  0.000000\n",
            "..       ...       ...\n",
            "118  1.42956  0.002040\n",
            "119  1.53399  0.000146\n",
            "120  1.60598  0.000402\n",
            "121  1.74893  0.000356\n",
            "122  1.89189  0.000081\n",
            "\n",
            "[123 rows x 2 columns]\n",
            "           f         m\n",
            "0    0.00478  0.000000\n",
            "1    0.02122  0.000000\n",
            "2    0.03765  0.000000\n",
            "3    0.04363  0.000000\n",
            "4    0.04773  0.000000\n",
            "..       ...       ...\n",
            "118  1.42959  0.001970\n",
            "119  1.53403  0.000210\n",
            "120  1.60601  0.000404\n",
            "121  1.74895  0.000367\n",
            "122  1.89189  0.000075\n",
            "\n",
            "[123 rows x 2 columns]\n",
            "           f         m\n",
            "0    0.00477  0.000000\n",
            "1    0.02117  0.000000\n",
            "2    0.03757  0.000000\n",
            "3    0.04353  0.000000\n",
            "4    0.04763  0.000000\n",
            "..       ...       ...\n",
            "118  1.42906  0.001950\n",
            "119  1.53339  0.000258\n",
            "120  1.60542  0.000406\n",
            "121  1.74862  0.000378\n",
            "122  1.89182  0.000071\n",
            "\n",
            "[123 rows x 2 columns]\n"
          ]
        }
      ]
    },
    {
      "cell_type": "code",
      "source": [
        "\n",
        "t_16 = mesh1_6['f']\n",
        "m_16 = mesh1_6['m']\n",
        "\n",
        "t_22 = mesh2_2['f']\n",
        "m_22 = mesh2_2['m']\n",
        "\n",
        "t_285 = mesh2_85['f']\n",
        "m_285 = mesh2_85['m']\n",
        "\n",
        "t_325 = mesh3_25['f']\n",
        "m_325 = mesh3_25['m']\n"
      ],
      "metadata": {
        "id": "Cxx6CqyAH8H1"
      },
      "execution_count": 5,
      "outputs": []
    },
    {
      "cell_type": "code",
      "source": [
        "import matplotlib.pyplot as plt"
      ],
      "metadata": {
        "id": "eGYAqR5OH-VJ"
      },
      "execution_count": 6,
      "outputs": []
    },
    {
      "cell_type": "code",
      "source": [
        "plt.plot(t_16, m_16, label='mesh_1.6')\n",
        "plt.plot(t_22, m_22, label='mesh_2.2')\n",
        "plt.plot(t_285, m_285, label='mesh_2.85')\n",
        "plt.plot(t_325, m_325, label='mesh_3.25')\n",
        "\n",
        "\n",
        "\n",
        "plt.xlabel('Frequency(rad/s)')\n",
        "plt.ylabel('RAO')\n",
        "plt.legend(loc='lower right')\n",
        "\n",
        "\n",
        "plt.show()"
      ],
      "metadata": {
        "id": "OmnyrqD-H_s-",
        "colab": {
          "base_uri": "https://localhost:8080/",
          "height": 280
        },
        "outputId": "fb6e28e3-1642-434d-ce91-7453923061b8"
      },
      "execution_count": 7,
      "outputs": [
        {
          "output_type": "display_data",
          "data": {
            "text/plain": [
              "<Figure size 432x288 with 1 Axes>"
            ],
            "image/png": "[encoded data removed]"
          },
          "metadata": {
            "needs_background": "light"
          }
        }
      ]
    },
    {
      "cell_type": "code",
      "source": [],
      "metadata": {
        "id": "ezGwR3kpmfV3"
      },
      "execution_count": null,
      "outputs": []
    }
  ]
}