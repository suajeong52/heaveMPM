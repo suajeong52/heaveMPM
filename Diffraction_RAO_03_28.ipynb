{
  "nbformat": 4,
  "nbformat_minor": 0,
  "metadata": {
    "colab": {
      "provenance": [],
      "authorship_tag": "ABX9TyM/RbnD9Uoi1VRKMvGEkU5A",
      "include_colab_link": true
    },
    "kernelspec": {
      "name": "python3",
      "display_name": "Python 3"
    },
    "language_info": {
      "name": "python"
    }
  },
  "cells": [
    {
      "cell_type": "markdown",
      "metadata": {
        "id": "view-in-github",
        "colab_type": "text"
      },
      "source": [
        "<a href=\"https://colab.research.google.com/github/suajeong52/heaveMPM/blob/main/Diffraction_RAO_03_28.ipynb\" target=\"_parent\"><img src=\"https://colab.research.google.com/assets/colab-badge.svg\" alt=\"Open In Colab\"/></a>"
      ]
    },
    {
      "cell_type": "markdown",
      "source": [
        "**데이터 불러오기**"
      ],
      "metadata": {
        "id": "n0EjEZlH0ars"
      }
    },
    {
      "cell_type": "code",
      "execution_count": 1,
      "metadata": {
        "colab": {
          "base_uri": "https://localhost:8080/",
          "height": 183
        },
        "id": "qFpCM6PlG15t",
        "outputId": "a8512595-0ba4-4f96-d8f8-1b7323e0a65a"
      },
      "outputs": [
        {
          "output_type": "display_data",
          "data": {
            "text/plain": [
              "<IPython.core.display.HTML object>"
            ],
            "text/html": [
              "\n",
              "     <input type=\"file\" id=\"files-cb7eb8b2-144c-4f59-a694-df918a572fb4\" name=\"files[]\" multiple disabled\n",
              "        style=\"border:none\" />\n",
              "     <output id=\"result-cb7eb8b2-144c-4f59-a694-df918a572fb4\">\n",
              "      Upload widget is only available when the cell has been executed in the\n",
              "      current browser session. Please rerun this cell to enable.\n",
              "      </output>\n",
              "      <script>// Copyright 2017 Google LLC\n",
              "//\n",
              "// Licensed under the Apache License, Version 2.0 (the \"License\");\n",
              "// you may not use this file except in compliance with the License.\n",
              "// You may obtain a copy of the License at\n",
              "//\n",
              "//      http://www.apache.org/licenses/LICENSE-2.0\n",
              "//\n",
              "// Unless required by applicable law or agreed to in writing, software\n",
              "// distributed under the License is distributed on an \"AS IS\" BASIS,\n",
              "// WITHOUT WARRANTIES OR CONDITIONS OF ANY KIND, either express or implied.\n",
              "// See the License for the specific language governing permissions and\n",
              "// limitations under the License.\n",
              "\n",
              "/**\n",
              " * @fileoverview Helpers for google.colab Python module.\n",
              " */\n",
              "(function(scope) {\n",
              "function span(text, styleAttributes = {}) {\n",
              "  const element = document.createElement('span');\n",
              "  element.textContent = text;\n",
              "  for (const key of Object.keys(styleAttributes)) {\n",
              "    element.style[key] = styleAttributes[key];\n",
              "  }\n",
              "  return element;\n",
              "}\n",
              "\n",
              "// Max number of bytes which will be uploaded at a time.\n",
              "const MAX_PAYLOAD_SIZE = 100 * 1024;\n",
              "\n",
              "function _uploadFiles(inputId, outputId) {\n",
              "  const steps = uploadFilesStep(inputId, outputId);\n",
              "  const outputElement = document.getElementById(outputId);\n",
              "  // Cache steps on the outputElement to make it available for the next call\n",
              "  // to uploadFilesContinue from Python.\n",
              "  outputElement.steps = steps;\n",
              "\n",
              "  return _uploadFilesContinue(outputId);\n",
              "}\n",
              "\n",
              "// This is roughly an async generator (not supported in the browser yet),\n",
              "// where there are multiple asynchronous steps and the Python side is going\n",
              "// to poll for completion of each step.\n",
              "// This uses a Promise to block the python side on completion of each step,\n",
              "// then passes the result of the previous step as the input to the next step.\n",
              "function _uploadFilesContinue(outputId) {\n",
              "  const outputElement = document.getElementById(outputId);\n",
              "  const steps = outputElement.steps;\n",
              "\n",
              "  const next = steps.next(outputElement.lastPromiseValue);\n",
              "  return Promise.resolve(next.value.promise).then((value) => {\n",
              "    // Cache the last promise value to make it available to the next\n",
              "    // step of the generator.\n",
              "    outputElement.lastPromiseValue = value;\n",
              "    return next.value.response;\n",
              "  });\n",
              "}\n",
              "\n",
              "/**\n",
              " * Generator function which is called between each async step of the upload\n",
              " * process.\n",
              " * @param {string} inputId Element ID of the input file picker element.\n",
              " * @param {string} outputId Element ID of the output display.\n",
              " * @return {!Iterable<!Object>} Iterable of next steps.\n",
              " */\n",
              "function* uploadFilesStep(inputId, outputId) {\n",
              "  const inputElement = document.getElementById(inputId);\n",
              "  inputElement.disabled = false;\n",
              "\n",
              "  const outputElement = document.getElementById(outputId);\n",
              "  outputElement.innerHTML = '';\n",
              "\n",
              "  const pickedPromise = new Promise((resolve) => {\n",
              "    inputElement.addEventListener('change', (e) => {\n",
              "      resolve(e.target.files);\n",
              "    });\n",
              "  });\n",
              "\n",
              "  const cancel = document.createElement('button');\n",
              "  inputElement.parentElement.appendChild(cancel);\n",
              "  cancel.textContent = 'Cancel upload';\n",
              "  const cancelPromise = new Promise((resolve) => {\n",
              "    cancel.onclick = () => {\n",
              "      resolve(null);\n",
              "    };\n",
              "  });\n",
              "\n",
              "  // Wait for the user to pick the files.\n",
              "  const files = yield {\n",
              "    promise: Promise.race([pickedPromise, cancelPromise]),\n",
              "    response: {\n",
              "      action: 'starting',\n",
              "    }\n",
              "  };\n",
              "\n",
              "  cancel.remove();\n",
              "\n",
              "  // Disable the input element since further picks are not allowed.\n",
              "  inputElement.disabled = true;\n",
              "\n",
              "  if (!files) {\n",
              "    return {\n",
              "      response: {\n",
              "        action: 'complete',\n",
              "      }\n",
              "    };\n",
              "  }\n",
              "\n",
              "  for (const file of files) {\n",
              "    const li = document.createElement('li');\n",
              "    li.append(span(file.name, {fontWeight: 'bold'}));\n",
              "    li.append(span(\n",
              "        `(${file.type || 'n/a'}) - ${file.size} bytes, ` +\n",
              "        `last modified: ${\n",
              "            file.lastModifiedDate ? file.lastModifiedDate.toLocaleDateString() :\n",
              "                                    'n/a'} - `));\n",
              "    const percent = span('0% done');\n",
              "    li.appendChild(percent);\n",
              "\n",
              "    outputElement.appendChild(li);\n",
              "\n",
              "    const fileDataPromise = new Promise((resolve) => {\n",
              "      const reader = new FileReader();\n",
              "      reader.onload = (e) => {\n",
              "        resolve(e.target.result);\n",
              "      };\n",
              "      reader.readAsArrayBuffer(file);\n",
              "    });\n",
              "    // Wait for the data to be ready.\n",
              "    let fileData = yield {\n",
              "      promise: fileDataPromise,\n",
              "      response: {\n",
              "        action: 'continue',\n",
              "      }\n",
              "    };\n",
              "\n",
              "    // Use a chunked sending to avoid message size limits. See b/62115660.\n",
              "    let position = 0;\n",
              "    do {\n",
              "      const length = Math.min(fileData.byteLength - position, MAX_PAYLOAD_SIZE);\n",
              "      const chunk = new Uint8Array(fileData, position, length);\n",
              "      position += length;\n",
              "\n",
              "      const base64 = btoa(String.fromCharCode.apply(null, chunk));\n",
              "      yield {\n",
              "        response: {\n",
              "          action: 'append',\n",
              "          file: file.name,\n",
              "          data: base64,\n",
              "        },\n",
              "      };\n",
              "\n",
              "      let percentDone = fileData.byteLength === 0 ?\n",
              "          100 :\n",
              "          Math.round((position / fileData.byteLength) * 100);\n",
              "      percent.textContent = `${percentDone}% done`;\n",
              "\n",
              "    } while (position < fileData.byteLength);\n",
              "  }\n",
              "\n",
              "  // All done.\n",
              "  yield {\n",
              "    response: {\n",
              "      action: 'complete',\n",
              "    }\n",
              "  };\n",
              "}\n",
              "\n",
              "scope.google = scope.google || {};\n",
              "scope.google.colab = scope.google.colab || {};\n",
              "scope.google.colab._files = {\n",
              "  _uploadFiles,\n",
              "  _uploadFilesContinue,\n",
              "};\n",
              "})(self);\n",
              "</script> "
            ]
          },
          "metadata": {}
        },
        {
          "output_type": "stream",
          "name": "stdout",
          "text": [
            "Saving 1.6mesh_diffractionrao.csv to 1.6mesh_diffractionrao.csv\n",
            "Saving 2.85mesh_diffractionrao.csv to 2.85mesh_diffractionrao.csv\n",
            "Saving 4.5mesh_diffractionrao.csv to 4.5mesh_diffractionrao.csv\n",
            "Saving 6mesh_diffractionrao.csv to 6mesh_diffractionrao.csv\n"
          ]
        }
      ],
      "source": [
        "from google.colab import files\n",
        "myfile = files.upload()"
      ]
    },
    {
      "cell_type": "code",
      "source": [
        "import io\n",
        "import pandas as pd"
      ],
      "metadata": {
        "id": "6U5zuxwBH2bp"
      },
      "execution_count": 2,
      "outputs": []
    },
    {
      "cell_type": "code",
      "source": [
        "mesh1_6 = pd.read_csv(io.BytesIO(myfile['1.6mesh_diffractionrao.csv']))\n",
        "mesh2_85 = pd.read_csv(io.BytesIO(myfile['2.85mesh_diffractionrao.csv']))\n",
        "mesh4_5 = pd.read_csv(io.BytesIO(myfile['4.5mesh_diffractionrao.csv']))\n",
        "mesh6 = pd.read_csv(io.BytesIO(myfile['6mesh_diffractionrao.csv']))\n"
      ],
      "metadata": {
        "id": "B_6g9KSfH4S7"
      },
      "execution_count": 3,
      "outputs": []
    },
    {
      "cell_type": "code",
      "source": [
        "print(mesh1_6)\n",
        "print(mesh2_85)\n",
        "print(mesh4_5)\n",
        "print(mesh6)"
      ],
      "metadata": {
        "id": "nnhdKmYtH5hi",
        "colab": {
          "base_uri": "https://localhost:8080/"
        },
        "outputId": "d4796779-1b32-448d-f789-23e2e3b2aae6"
      },
      "execution_count": 4,
      "outputs": [
        {
          "output_type": "stream",
          "name": "stdout",
          "text": [
            "          f         m\n",
            "0   0.10000  1.004252\n",
            "1   0.17053  1.042841\n",
            "2   0.24105  7.367249\n",
            "3   0.31158  0.612276\n",
            "4   0.38211  0.618306\n",
            "5   0.45263  0.565231\n",
            "6   0.52316  0.462708\n",
            "7   0.59369  0.241354\n",
            "8   0.66421  0.049800\n",
            "9   0.73474  0.023600\n",
            "10  0.80526  0.039500\n",
            "11  0.87579  0.034400\n",
            "12  0.94632  0.036100\n",
            "13  1.01684  0.036000\n",
            "14  1.08737  0.021800\n",
            "15  1.15790  0.004600\n",
            "16  1.22842  0.004260\n",
            "17  1.29895  0.003930\n",
            "18  1.36947  0.003640\n",
            "19  1.44000  0.001600\n",
            "          f         m\n",
            "0   0.10000  1.004237\n",
            "1   0.17053  1.042917\n",
            "2   0.24105  7.448099\n",
            "3   0.31158  0.611534\n",
            "4   0.38211  0.617734\n",
            "5   0.45263  0.564875\n",
            "6   0.52316  0.462659\n",
            "7   0.59369  0.241338\n",
            "8   0.66421  0.049600\n",
            "9   0.73474  0.023800\n",
            "10  0.80526  0.039600\n",
            "11  0.87579  0.034500\n",
            "12  0.94632  0.036100\n",
            "13  1.01684  0.036000\n",
            "14  1.08737  0.021800\n",
            "15  1.15790  0.004554\n",
            "16  1.22842  0.004310\n",
            "17  1.29895  0.003860\n",
            "18  1.36947  0.003610\n",
            "19  1.44000  0.001550\n",
            "          f          m\n",
            "0   0.10000   1.004352\n",
            "1   0.17053   1.044378\n",
            "2   0.24105  30.350962\n",
            "3   0.31158   0.613633\n",
            "4   0.38211   0.616753\n",
            "5   0.45263   0.563263\n",
            "6   0.52316   0.461461\n",
            "7   0.59369   0.241279\n",
            "8   0.66421   0.050400\n",
            "9   0.73474   0.023400\n",
            "10  0.80526   0.039300\n",
            "11  0.87579   0.034600\n",
            "12  0.94632   0.036400\n",
            "13  1.01684   0.036000\n",
            "14  1.08737   0.021800\n",
            "15  1.15790   0.004470\n",
            "16  1.22842   0.004300\n",
            "17  1.29895   0.003690\n",
            "18  1.36947   0.003550\n",
            "19  1.44000   0.001430\n",
            "          f          m\n",
            "0   0.10000   1.004417\n",
            "1   0.17053   1.045286\n",
            "2   0.24105  30.686935\n",
            "3   0.31158   0.613475\n",
            "4   0.38211   0.614806\n",
            "5   0.45263   0.560868\n",
            "6   0.52316   0.459787\n",
            "7   0.59369   0.240479\n",
            "8   0.66421   0.049400\n",
            "9   0.73474   0.024200\n",
            "10  0.80526   0.039700\n",
            "11  0.87579   0.034900\n",
            "12  0.94632   0.036500\n",
            "13  1.01684   0.036000\n",
            "14  1.08737   0.021700\n",
            "15  1.15790   0.004340\n",
            "16  1.22842   0.004390\n",
            "17  1.29895   0.003540\n",
            "18  1.36947   0.003430\n",
            "19  1.44000   0.001188\n"
          ]
        }
      ]
    },
    {
      "cell_type": "code",
      "source": [
        "\n",
        "t_16 = mesh1_6['f']\n",
        "m_16 = mesh1_6['m']\n",
        "\n",
        "t_285 = mesh2_85['f']\n",
        "m_285 = mesh2_85['m']\n",
        "\n",
        "t_45 = mesh4_5['f']\n",
        "m_45 = mesh4_5['m']\n",
        "\n",
        "t_6 = mesh6['f']\n",
        "m_6 = mesh6['m']\n"
      ],
      "metadata": {
        "id": "Cxx6CqyAH8H1"
      },
      "execution_count": 5,
      "outputs": []
    },
    {
      "cell_type": "code",
      "source": [
        "import matplotlib.pyplot as plt"
      ],
      "metadata": {
        "id": "eGYAqR5OH-VJ"
      },
      "execution_count": 6,
      "outputs": []
    },
    {
      "cell_type": "code",
      "source": [
        "plt.plot(t_16, m_16, label='mesh_1.6')\n",
        "plt.plot(t_285, m_285, label='mesh_2.85')\n",
        "plt.plot(t_45, m_45, label='mesh_4.5')\n",
        "plt.plot(t_6, m_6, label='mesh_6')\n",
        "\n",
        "\n",
        "\n",
        "plt.xlabel('Frequency(rad/s)')\n",
        "plt.ylabel('RAO')\n",
        "plt.legend(loc='lower right')\n",
        "\n",
        "\n",
        "plt.show()"
      ],
      "metadata": {
        "id": "OmnyrqD-H_s-",
        "colab": {
          "base_uri": "https://localhost:8080/",
          "height": 279
        },
        "outputId": "b4cf0388-82f7-485e-ebd8-3f4c2cb1358d"
      },
      "execution_count": 14,
      "outputs": [
        {
          "output_type": "display_data",
          "data": {
            "text/plain": [
              "<Figure size 432x288 with 1 Axes>"
            ],
            "image/png": "[encoded data removed]"
          },
          "metadata": {
            "needs_background": "light"
          }
        }
      ]
    },
    {
      "cell_type": "code",
      "source": [],
      "metadata": {
        "id": "fJ2NzOIdvbOQ"
      },
      "execution_count": null,
      "outputs": []
    }
  ]
}