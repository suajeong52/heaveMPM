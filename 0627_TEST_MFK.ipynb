{
  "nbformat": 4,
  "nbformat_minor": 0,
  "metadata": {
    "colab": {
      "provenance": [],
      "authorship_tag": "ABX9TyMxUJcBJtTPEAnGbcpuIwrm",
      "include_colab_link": true
    },
    "kernelspec": {
      "name": "python3",
      "display_name": "Python 3"
    },
    "language_info": {
      "name": "python"
    }
  },
  "cells": [
    {
      "cell_type": "markdown",
      "metadata": {
        "id": "view-in-github",
        "colab_type": "text"
      },
      "source": [
        "<a href=\"https://colab.research.google.com/github/suajeong52/heaveMPM/blob/main/0627_TEST_MFK.ipynb\" target=\"_parent\"><img src=\"https://colab.research.google.com/assets/colab-badge.svg\" alt=\"Open In Colab\"/></a>"
      ]
    },
    {
      "cell_type": "code",
      "source": [
        "!pip install smt"
      ],
      "metadata": {
        "id": "SNUzTImGgjAL",
        "colab": {
          "base_uri": "https://localhost:8080/"
        },
        "outputId": "b62a030d-89c9-4eb1-fdaf-3c2ef23516b2"
      },
      "execution_count": null,
      "outputs": [
        {
          "output_type": "stream",
          "name": "stdout",
          "text": [
            "Looking in indexes: https://pypi.org/simple, https://us-python.pkg.dev/colab-wheels/public/simple/\n",
            "Collecting smt\n",
            "  Downloading smt-1.3.0.tar.gz (256 kB)\n",
            "\u001b[2K     \u001b[90m━━━━━━━━━━━━━━━━━━━━━━━━━━━━━━━━━━━━━━━\u001b[0m \u001b[32m256.1/256.1 kB\u001b[0m \u001b[31m9.6 MB/s\u001b[0m eta \u001b[36m0:00:00\u001b[0m\n",
            "\u001b[?25h  Installing build dependencies ... \u001b[?25l\u001b[?25hdone\n",
            "  Getting requirements to build wheel ... \u001b[?25l\u001b[?25hdone\n",
            "  Preparing metadata (pyproject.toml) ... \u001b[?25l\u001b[?25hdone\n",
            "Requirement already satisfied: scikit-learn in /usr/local/lib/python3.10/dist-packages (from smt) (1.2.2)\n",
            "Collecting pyDOE2 (from smt)\n",
            "  Downloading pyDOE2-1.3.0.tar.gz (19 kB)\n",
            "  Preparing metadata (setup.py) ... \u001b[?25l\u001b[?25hdone\n",
            "Requirement already satisfied: scipy in /usr/local/lib/python3.10/dist-packages (from smt) (1.10.1)\n",
            "Requirement already satisfied: numpy in /usr/local/lib/python3.10/dist-packages (from pyDOE2->smt) (1.22.4)\n",
            "Requirement already satisfied: joblib>=1.1.1 in /usr/local/lib/python3.10/dist-packages (from scikit-learn->smt) (1.2.0)\n",
            "Requirement already satisfied: threadpoolctl>=2.0.0 in /usr/local/lib/python3.10/dist-packages (from scikit-learn->smt) (3.1.0)\n",
            "Building wheels for collected packages: smt, pyDOE2\n",
            "  Building wheel for smt (pyproject.toml) ... \u001b[?25l\u001b[?25hdone\n",
            "  Created wheel for smt: filename=smt-1.3.0-cp310-cp310-linux_x86_64.whl size=654266 sha256=4d1a946ec90e410a372f075ad6399801b4acb38b843828002947ed005dc665df\n",
            "  Stored in directory: /root/.cache/pip/wheels/3b/d3/c7/5455cf3d853cb05d5b2e50ffc8085af8f2a31e15b4718a3bd9\n",
            "  Building wheel for pyDOE2 (setup.py) ... \u001b[?25l\u001b[?25hdone\n",
            "  Created wheel for pyDOE2: filename=pyDOE2-1.3.0-py3-none-any.whl size=25521 sha256=328d560cb0aaa1f3a7d7d56fae1caf05086cf2de3c97579ac43ef0ad7555647e\n",
            "  Stored in directory: /root/.cache/pip/wheels/46/1f/29/6fda5c72f950841e39147ae603780ee913a62f977b4ad47ee4\n",
            "Successfully built smt pyDOE2\n",
            "Installing collected packages: pyDOE2, smt\n",
            "Successfully installed pyDOE2-1.3.0 smt-1.3.0\n"
          ]
        }
      ]
    },
    {
      "cell_type": "code",
      "source": [
        "import numpy as np\n",
        "from smt.sampling_methods import LHS\n",
        "from smt.utils import compute_rms_error\n",
        "from smt.applications import MFK\n",
        "import matplotlib.pyplot as plt\n",
        "import pandas as pd"
      ],
      "metadata": {
        "id": "2hlq09hhgh2K"
      },
      "execution_count": null,
      "outputs": []
    },
    {
      "cell_type": "code",
      "source": [
        "xH = pd.read_excel('xt_H.xlsx', usecols=[1]).values\n",
        "xL = pd.read_excel('xt_L.xlsx', usecols=[1]).values\n",
        "\n",
        "yH = pd.read_excel('mpmH.xlsx', usecols=[1]).values\n",
        "yL = pd.read_excel('mpmL.xlsx', usecols=[1]).values\n"
      ],
      "metadata": {
        "id": "r93fyEY7eYIs"
      },
      "execution_count": null,
      "outputs": []
    },
    {
      "cell_type": "code",
      "source": [
        "# Sample the test points using LHS\n",
        "xlimits = np.array([[19.00, 20.00]])\n",
        "sampling = LHS(xlimits=xlimits, criterion='ese', random_state=1)\n",
        "\n",
        "test_num = 30\n",
        "X_test = sampling(test_num)"
      ],
      "metadata": {
        "id": "lQDml1wweboS"
      },
      "execution_count": null,
      "outputs": []
    },
    {
      "cell_type": "code",
      "source": [
        "print(X_test)"
      ],
      "metadata": {
        "colab": {
          "base_uri": "https://localhost:8080/"
        },
        "id": "xQK7UnBqekZV",
        "outputId": "baab2fbd-77c0-4f15-cc00-6bd376243bed"
      },
      "execution_count": null,
      "outputs": [
        {
          "output_type": "stream",
          "name": "stdout",
          "text": [
            "[[19.11007775]\n",
            " [19.69335815]\n",
            " [19.82921297]\n",
            " [19.16974462]\n",
            " [19.90130183]\n",
            " [19.52234892]\n",
            " [19.46757959]\n",
            " [19.27989225]\n",
            " [19.86315356]\n",
            " [19.60467956]\n",
            " [19.86950147]\n",
            " [19.46260391]\n",
            " [19.34730648]\n",
            " [19.74378081]\n",
            " [19.78974409]\n",
            " [19.01390073]\n",
            " [19.06667048]\n",
            " [19.31796056]\n",
            " [19.93899435]\n",
            " [19.54724349]\n",
            " [19.40681507]\n",
            " [19.38950732]\n",
            " [19.63993672]\n",
            " [19.1382252 ]\n",
            " [19.99593808]\n",
            " [19.58528966]\n",
            " [19.73227539]\n",
            " [19.20620867]\n",
            " [19.05734415]\n",
            " [19.24485202]]\n"
          ]
        }
      ]
    },
    {
      "cell_type": "code",
      "source": [
        "xH.shape[1]"
      ],
      "metadata": {
        "colab": {
          "base_uri": "https://localhost:8080/"
        },
        "id": "OkdfG3EJJMyc",
        "outputId": "d66d16e3-f901-4e35-ae49-5b645ad708ed"
      },
      "execution_count": null,
      "outputs": [
        {
          "output_type": "execute_result",
          "data": {
            "text/plain": [
              "1"
            ]
          },
          "metadata": {},
          "execution_count": 6
        }
      ]
    },
    {
      "cell_type": "code",
      "source": [
        "K = xH.shape[1] * [1.0]\n",
        "\n",
        "print(K)"
      ],
      "metadata": {
        "colab": {
          "base_uri": "https://localhost:8080/"
        },
        "id": "hrEKQQTeJJqk",
        "outputId": "b0fc1305-1229-42a0-fc50-11db8afb3332"
      },
      "execution_count": null,
      "outputs": [
        {
          "output_type": "stream",
          "name": "stdout",
          "text": [
            "[1.0]\n"
          ]
        }
      ]
    },
    {
      "cell_type": "code",
      "source": [
        "# Fit the MFK model\n",
        "sm = MFK(theta0=xH.shape[1] * [1.0])"
      ],
      "metadata": {
        "id": "rIl_WlvmKaCa"
      },
      "execution_count": null,
      "outputs": []
    },
    {
      "cell_type": "code",
      "source": [
        "sm.set_training_values(xH, yH)\n",
        "# high-fidelity dataset without name\n",
        "sm.set_training_values(xL, yL, name=0)"
      ],
      "metadata": {
        "id": "5srqV57rKgd2"
      },
      "execution_count": null,
      "outputs": []
    },
    {
      "cell_type": "code",
      "source": [
        "sm.train()"
      ],
      "metadata": {
        "colab": {
          "base_uri": "https://localhost:8080/"
        },
        "id": "ECsOYsBzKjGe",
        "outputId": "81df7d22-3f55-43c9-94e4-8e5617ee79be"
      },
      "execution_count": null,
      "outputs": [
        {
          "output_type": "stream",
          "name": "stdout",
          "text": [
            "___________________________________________________________________________\n",
            "   \n",
            "                                    MFK\n",
            "___________________________________________________________________________\n",
            "   \n",
            " Problem size\n",
            "   \n",
            "      # training points.        : 7\n",
            "   \n",
            "___________________________________________________________________________\n",
            "   \n",
            " Training\n",
            "   \n",
            "   Training ...\n",
            "   Training - done. Time (sec):  0.0998573\n"
          ]
        }
      ]
    },
    {
      "cell_type": "code",
      "source": [
        "\n",
        "\n",
        "\n",
        "# Predict on the test points\n",
        "y_pred= sm.predict_values(X_test)\n",
        "mse = sm.predict_variances(X_test)\n",
        "derivs = sm.predict_derivatives(X_test, kx=0)"
      ],
      "metadata": {
        "colab": {
          "base_uri": "https://localhost:8080/"
        },
        "id": "2TJl1unJlLQR",
        "outputId": "3cb3f6d7-1897-417d-ee6e-49ac76fc5702"
      },
      "execution_count": null,
      "outputs": [
        {
          "output_type": "stream",
          "name": "stdout",
          "text": [
            "___________________________________________________________________________\n",
            "   \n",
            " Evaluation\n",
            "   \n",
            "      # eval points. : 30\n",
            "   \n",
            "   Predicting ...\n",
            "   Predicting - done. Time (sec):  0.0034955\n",
            "   \n",
            "   Prediction time/pt. (sec) :  0.0001165\n",
            "   \n",
            "___________________________________________________________________________\n",
            "   \n",
            " Evaluation\n",
            "   \n",
            "      # eval points. : 30\n",
            "   \n",
            "   Predicting ...\n",
            "   Predicting - done. Time (sec):  0.0006218\n",
            "   \n",
            "   Prediction time/pt. (sec) :  0.0000207\n",
            "   \n"
          ]
        }
      ]
    },
    {
      "cell_type": "code",
      "source": [],
      "metadata": {
        "id": "cHQAY9z4JiEw"
      },
      "execution_count": null,
      "outputs": []
    },
    {
      "cell_type": "code",
      "source": [
        "plt.figure()\n",
        "\n",
        "plt.scatter(X_test, y_pred, marker=\"x\",color=\"b\", label=\"test_pred\")\n",
        "plt.scatter(xH, yH, marker=\"o\", color=\"k\", label=\"HF\")\n",
        "plt.scatter(xL, yL, marker=\"*\", color=\"g\", label=\"LF\")\n",
        "\n",
        "plt.xlim(18.9, 20.1)\n",
        "plt.ylim(0.044, 0.049)\n",
        "plt.legend(loc=0)\n",
        "plt.xlabel(r\"$x$\")\n",
        "plt.ylabel(r\"$y$\")\n",
        "\n",
        "plt.show()"
      ],
      "metadata": {
        "colab": {
          "base_uri": "https://localhost:8080/",
          "height": 455
        },
        "id": "7aJNupd8l23k",
        "outputId": "8ed166c5-2630-4796-afb7-cfb7ddaac6f2"
      },
      "execution_count": null,
      "outputs": [
        {
          "output_type": "display_data",
          "data": {
            "text/plain": [
              "<Figure size 640x480 with 1 Axes>"
            ],
            "image/png": "[encoded data removed]"
          },
          "metadata": {}
        }
      ]
    },
    {
      "cell_type": "code",
      "source": [
        "print(X_test)\n",
        "print(y_pred)"
      ],
      "metadata": {
        "colab": {
          "base_uri": "https://localhost:8080/"
        },
        "id": "Ozibm7261iCA",
        "outputId": "1e971c66-8210-46e0-c635-d7ce7af71fdd"
      },
      "execution_count": null,
      "outputs": [
        {
          "output_type": "stream",
          "name": "stdout",
          "text": [
            "[[19.11007775]\n",
            " [19.69335815]\n",
            " [19.82921297]\n",
            " [19.16974462]\n",
            " [19.90130183]\n",
            " [19.52234892]\n",
            " [19.46757959]\n",
            " [19.27989225]\n",
            " [19.86315356]\n",
            " [19.60467956]\n",
            " [19.86950147]\n",
            " [19.46260391]\n",
            " [19.34730648]\n",
            " [19.74378081]\n",
            " [19.78974409]\n",
            " [19.01390073]\n",
            " [19.06667048]\n",
            " [19.31796056]\n",
            " [19.93899435]\n",
            " [19.54724349]\n",
            " [19.40681507]\n",
            " [19.38950732]\n",
            " [19.63993672]\n",
            " [19.1382252 ]\n",
            " [19.99593808]\n",
            " [19.58528966]\n",
            " [19.73227539]\n",
            " [19.20620867]\n",
            " [19.05734415]\n",
            " [19.24485202]]\n",
            "[[0.04582627]\n",
            " [0.04597866]\n",
            " [0.04572396]\n",
            " [0.04586873]\n",
            " [0.04595329]\n",
            " [0.04609013]\n",
            " [0.04590088]\n",
            " [0.04578565]\n",
            " [0.04582169]\n",
            " [0.04599181]\n",
            " [0.04584761]\n",
            " [0.04586132]\n",
            " [0.04557435]\n",
            " [0.04596461]\n",
            " [0.0457794 ]\n",
            " [0.0455397 ]\n",
            " [0.04558666]\n",
            " [0.04585743]\n",
            " [0.04604233]\n",
            " [0.04607157]\n",
            " [0.04536589]\n",
            " [0.04529807]\n",
            " [0.04597604]\n",
            " [0.04592432]\n",
            " [0.04614633]\n",
            " [0.04601601]\n",
            " [0.04597938]\n",
            " [0.0456389 ]\n",
            " [0.04555731]\n",
            " [0.04555951]]\n"
          ]
        }
      ]
    },
    {
      "cell_type": "code",
      "source": [
        "#df = pd.DataFrame(X_test)\n",
        "#df.to_excel('xtest.xlsx', sheet_name='xt_L_sheet')"
      ],
      "metadata": {
        "id": "7E1AhI1zfY9g"
      },
      "execution_count": null,
      "outputs": []
    },
    {
      "cell_type": "code",
      "source": [
        "y_realL = pd.read_excel('mpmTEST.xlsx', usecols=[1]).values\n",
        "print(y_realL)"
      ],
      "metadata": {
        "colab": {
          "base_uri": "https://localhost:8080/"
        },
        "id": "P4hANAFDOfBl",
        "outputId": "24650b91-7c3a-46ae-893b-c9505d6cef67"
      },
      "execution_count": null,
      "outputs": [
        {
          "output_type": "stream",
          "name": "stdout",
          "text": [
            "[[0.04617302]\n",
            " [0.04648197]\n",
            " [0.04721377]\n",
            " [0.04614955]\n",
            " [0.04668821]\n",
            " [0.04609639]\n",
            " [0.04541553]\n",
            " [0.04686053]\n",
            " [0.04704948]\n",
            " [0.0463176 ]\n",
            " [0.04692591]\n",
            " [0.04533219]\n",
            " [0.04588281]\n",
            " [0.04703477]\n",
            " [0.04697479]\n",
            " [0.04829235]\n",
            " [0.04674321]\n",
            " [0.04641669]\n",
            " [0.04653111]\n",
            " [0.04605485]\n",
            " [0.04519979]\n",
            " [0.04521778]\n",
            " [0.04630093]\n",
            " [0.04614732]\n",
            " [0.04633602]\n",
            " [0.04625257]\n",
            " [0.0463778 ]\n",
            " [0.04632535]\n",
            " [0.04675378]\n",
            " [0.04682784]]\n"
          ]
        }
      ]
    },
    {
      "cell_type": "code",
      "source": [
        "y_realH = pd.read_excel('mpmT_H30.xlsx', usecols=[1]).values\n",
        "print(y_realH)"
      ],
      "metadata": {
        "colab": {
          "base_uri": "https://localhost:8080/"
        },
        "id": "GmJb5eG8l7oM",
        "outputId": "78547b05-4abc-4cb0-f59a-434f4ae253dc"
      },
      "execution_count": null,
      "outputs": [
        {
          "output_type": "stream",
          "name": "stdout",
          "text": [
            "[[0.04641416]\n",
            " [0.04669476]\n",
            " [0.04592334]\n",
            " [0.04618414]\n",
            " [0.04586465]\n",
            " [0.04596061]\n",
            " [0.04594042]\n",
            " [0.04491276]\n",
            " [0.04578364]\n",
            " [0.0454285 ]\n",
            " [0.04586987]\n",
            " [0.04598193]\n",
            " [0.04554791]\n",
            " [0.04632308]\n",
            " [0.04613821]\n",
            " [0.04580099]\n",
            " [0.04611639]\n",
            " [0.04495745]\n",
            " [0.04559603]\n",
            " [0.04610012]\n",
            " [0.04572014]\n",
            " [0.04571412]\n",
            " [0.04640232]\n",
            " [0.04660687]\n",
            " [0.04526989]\n",
            " [0.0459685 ]\n",
            " [0.04653284]\n",
            " [0.04561209]\n",
            " [0.04586792]\n",
            " [0.04492106]]\n"
          ]
        }
      ]
    },
    {
      "cell_type": "code",
      "source": [
        "#mesh low로 구했을때의 정확도? 비율?\n",
        "yP = y_pred/y_realL\n",
        "print(yP)"
      ],
      "metadata": {
        "colab": {
          "base_uri": "https://localhost:8080/"
        },
        "id": "G8K7D_21Oyst",
        "outputId": "4084cdd8-58bd-4040-a31d-13ffb9d9f008"
      },
      "execution_count": null,
      "outputs": [
        {
          "output_type": "stream",
          "name": "stdout",
          "text": [
            "[[0.99249004]\n",
            " [0.98917189]\n",
            " [0.96844554]\n",
            " [0.9939152 ]\n",
            " [0.98425897]\n",
            " [0.99986404]\n",
            " [1.0106869 ]\n",
            " [0.97706213]\n",
            " [0.97390423]\n",
            " [0.99296613]\n",
            " [0.97702139]\n",
            " [1.01167227]\n",
            " [0.99327734]\n",
            " [0.9772474 ]\n",
            " [0.97455238]\n",
            " [0.9430003 ]\n",
            " [0.97525746]\n",
            " [0.98795135]\n",
            " [0.98949562]\n",
            " [1.00036303]\n",
            " [1.00367488]\n",
            " [1.00177582]\n",
            " [0.99298315]\n",
            " [0.99516763]\n",
            " [0.9959062 ]\n",
            " [0.99488536]\n",
            " [0.99140912]\n",
            " [0.98518198]\n",
            " [0.97440918]\n",
            " [0.97291513]]\n"
          ]
        }
      ]
    },
    {
      "cell_type": "code",
      "source": [
        "yP_H = y_pred/y_realH\n",
        "print(yP_H)"
      ],
      "metadata": {
        "colab": {
          "base_uri": "https://localhost:8080/"
        },
        "id": "DFibcnqVmmD1",
        "outputId": "f02be882-2c12-47cd-f029-185ebde59d08"
      },
      "execution_count": null,
      "outputs": [
        {
          "output_type": "stream",
          "name": "stdout",
          "text": [
            "[[0.9873338 ]\n",
            " [0.98466414]\n",
            " [0.99565837]\n",
            " [0.99317081]\n",
            " [1.00193267]\n",
            " [1.00281789]\n",
            " [0.99913929]\n",
            " [1.01943515]\n",
            " [1.00083102]\n",
            " [1.01239994]\n",
            " [0.99951481]\n",
            " [0.99737702]\n",
            " [1.00058062]\n",
            " [0.99226146]\n",
            " [0.9922232 ]\n",
            " [0.99429501]\n",
            " [0.98851328]\n",
            " [1.02001854]\n",
            " [1.0097882 ]\n",
            " [0.99938072]\n",
            " [0.99225171]\n",
            " [0.99089903]\n",
            " [0.99081343]\n",
            " [0.98535529]\n",
            " [1.01936031]\n",
            " [1.0010334 ]\n",
            " [0.9881061 ]\n",
            " [1.00058783]\n",
            " [0.9932281 ]\n",
            " [1.01421277]]\n"
          ]
        }
      ]
    },
    {
      "cell_type": "code",
      "source": [
        "plt.figure()\n",
        "\n",
        "plt.scatter(X_test, y_pred, marker=\"x\",color=\"b\", label=\"test_pred\")\n",
        "plt.scatter(xH, yH, marker=\"o\", color=\"k\", label=\"HF\")\n",
        "plt.scatter(xL, yL, marker=\"*\", color=\"g\", label=\"LF\")\n",
        "plt.scatter(X_test, y_realL, marker=\"1\", color=\"y\", label=\"real_AQWA_LOW\")\n",
        "\n",
        "plt.xlim(18.9, 20.1)\n",
        "plt.ylim(0.044, 0.049)\n",
        "plt.legend(loc=0)\n",
        "plt.xlabel(r\"$x$\")\n",
        "plt.ylabel(r\"$y$\")\n",
        "\n",
        "plt.show()"
      ],
      "metadata": {
        "colab": {
          "base_uri": "https://localhost:8080/",
          "height": 455
        },
        "id": "bEKPDXlIPs20",
        "outputId": "1566a08f-4e92-424e-d768-69983c5be885"
      },
      "execution_count": null,
      "outputs": [
        {
          "output_type": "display_data",
          "data": {
            "text/plain": [
              "<Figure size 640x480 with 1 Axes>"
            ],
            "image/png": "[encoded data removed]"
          },
          "metadata": {}
        }
      ]
    },
    {
      "cell_type": "code",
      "source": [
        "plt.figure()\n",
        "\n",
        "plt.scatter(X_test, y_pred, marker=\"x\",color=\"b\", label=\"test_pred\")\n",
        "plt.scatter(xH, yH, marker=\"o\", color=\"k\", label=\"HF\")\n",
        "plt.scatter(xL, yL, marker=\"*\", color=\"g\", label=\"LF\")\n",
        "plt.scatter(X_test, y_realH, marker=\"1\", color=\"m\", label=\"real_AQWA_HIGH\")\n",
        "\n",
        "plt.xlim(18.9, 20.1)\n",
        "plt.ylim(0.044, 0.049)\n",
        "plt.legend(loc=0)\n",
        "plt.xlabel(r\"$x$\")\n",
        "plt.ylabel(r\"$y$\")\n",
        "\n",
        "plt.show()"
      ],
      "metadata": {
        "colab": {
          "base_uri": "https://localhost:8080/",
          "height": 455
        },
        "id": "3gYVhxqrQ6kj",
        "outputId": "0f1ac69a-1ce7-4209-a1b9-1190bb27c7bd"
      },
      "execution_count": null,
      "outputs": [
        {
          "output_type": "display_data",
          "data": {
            "text/plain": [
              "<Figure size 640x480 with 1 Axes>"
            ],
            "image/png": "[encoded data removed]"
          },
          "metadata": {}
        }
      ]
    },
    {
      "cell_type": "code",
      "source": [
        "plt.figure()\n",
        "\n",
        "plt.scatter(X_test, y_pred, marker=\"x\",color=\"b\", label=\"test_pred\")\n",
        "plt.scatter(xH, yH, marker=\"o\", color=\"k\", label=\"HF\")\n",
        "plt.scatter(xL, yL, marker=\"*\", color=\"g\", label=\"LF\")\n",
        "plt.scatter(X_test, y_realL, marker=\"1\", color=\"y\", label=\"real_AQWA_LOW\")\n",
        "plt.scatter(X_test, y_realH, marker=\"1\", color=\"m\", label=\"real_AQWA_HIGH\")\n",
        "\n",
        "plt.xlim(18.9, 20.1)\n",
        "plt.ylim(0.044, 0.049)\n",
        "plt.legend(loc=0)\n",
        "plt.xlabel(r\"$x$\")\n",
        "plt.ylabel(r\"$y$\")\n",
        "\n",
        "plt.show()"
      ],
      "metadata": {
        "colab": {
          "base_uri": "https://localhost:8080/",
          "height": 455
        },
        "id": "FE4TwiK8mTc8",
        "outputId": "23205907-aa66-4e47-adb1-0118a64f8222"
      },
      "execution_count": null,
      "outputs": [
        {
          "output_type": "display_data",
          "data": {
            "text/plain": [
              "<Figure size 640x480 with 1 Axes>"
            ],
            "image/png": "[encoded data removed]"
          },
          "metadata": {}
        }
      ]
    },
    {
      "cell_type": "code",
      "source": [],
      "metadata": {
        "id": "rf6EBjQxm2Wr"
      },
      "execution_count": null,
      "outputs": []
    }
  ]
}