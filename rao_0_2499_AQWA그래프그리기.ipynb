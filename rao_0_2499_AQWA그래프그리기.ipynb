{
  "nbformat": 4,
  "nbformat_minor": 0,
  "metadata": {
    "colab": {
      "provenance": [],
      "authorship_tag": "ABX9TyOxEUHY4rcN/ilrFhNHWbM4",
      "include_colab_link": true
    },
    "kernelspec": {
      "name": "python3",
      "display_name": "Python 3"
    },
    "language_info": {
      "name": "python"
    }
  },
  "cells": [
    {
      "cell_type": "markdown",
      "metadata": {
        "id": "view-in-github",
        "colab_type": "text"
      },
      "source": [
        "<a href=\"https://colab.research.google.com/github/suajeong52/heaveMPM/blob/main/rao_0_2499_AQWA%EA%B7%B8%EB%9E%98%ED%94%84%EA%B7%B8%EB%A6%AC%EA%B8%B0.ipynb\" target=\"_parent\"><img src=\"https://colab.research.google.com/assets/colab-badge.svg\" alt=\"Open In Colab\"/></a>"
      ]
    },
    {
      "cell_type": "markdown",
      "source": [
        "**데이터 불러오기**"
      ],
      "metadata": {
        "id": "n0EjEZlH0ars"
      }
    },
    {
      "cell_type": "code",
      "execution_count": null,
      "metadata": {
        "colab": {
          "base_uri": "https://localhost:8080/",
          "height": 184
        },
        "id": "qFpCM6PlG15t",
        "outputId": "50b54e12-4048-49b2-b76d-cb28371edebe"
      },
      "outputs": [
        {
          "output_type": "display_data",
          "data": {
            "text/plain": [
              "<IPython.core.display.HTML object>"
            ],
            "text/html": [
              "\n",
              "     <input type=\"file\" id=\"files-9f2ebb03-1435-44ae-b4fa-034a1ae53ad5\" name=\"files[]\" multiple disabled\n",
              "        style=\"border:none\" />\n",
              "     <output id=\"result-9f2ebb03-1435-44ae-b4fa-034a1ae53ad5\">\n",
              "      Upload widget is only available when the cell has been executed in the\n",
              "      current browser session. Please rerun this cell to enable.\n",
              "      </output>\n",
              "      <script>// Copyright 2017 Google LLC\n",
              "//\n",
              "// Licensed under the Apache License, Version 2.0 (the \"License\");\n",
              "// you may not use this file except in compliance with the License.\n",
              "// You may obtain a copy of the License at\n",
              "//\n",
              "//      http://www.apache.org/licenses/LICENSE-2.0\n",
              "//\n",
              "// Unless required by applicable law or agreed to in writing, software\n",
              "// distributed under the License is distributed on an \"AS IS\" BASIS,\n",
              "// WITHOUT WARRANTIES OR CONDITIONS OF ANY KIND, either express or implied.\n",
              "// See the License for the specific language governing permissions and\n",
              "// limitations under the License.\n",
              "\n",
              "/**\n",
              " * @fileoverview Helpers for google.colab Python module.\n",
              " */\n",
              "(function(scope) {\n",
              "function span(text, styleAttributes = {}) {\n",
              "  const element = document.createElement('span');\n",
              "  element.textContent = text;\n",
              "  for (const key of Object.keys(styleAttributes)) {\n",
              "    element.style[key] = styleAttributes[key];\n",
              "  }\n",
              "  return element;\n",
              "}\n",
              "\n",
              "// Max number of bytes which will be uploaded at a time.\n",
              "const MAX_PAYLOAD_SIZE = 100 * 1024;\n",
              "\n",
              "function _uploadFiles(inputId, outputId) {\n",
              "  const steps = uploadFilesStep(inputId, outputId);\n",
              "  const outputElement = document.getElementById(outputId);\n",
              "  // Cache steps on the outputElement to make it available for the next call\n",
              "  // to uploadFilesContinue from Python.\n",
              "  outputElement.steps = steps;\n",
              "\n",
              "  return _uploadFilesContinue(outputId);\n",
              "}\n",
              "\n",
              "// This is roughly an async generator (not supported in the browser yet),\n",
              "// where there are multiple asynchronous steps and the Python side is going\n",
              "// to poll for completion of each step.\n",
              "// This uses a Promise to block the python side on completion of each step,\n",
              "// then passes the result of the previous step as the input to the next step.\n",
              "function _uploadFilesContinue(outputId) {\n",
              "  const outputElement = document.getElementById(outputId);\n",
              "  const steps = outputElement.steps;\n",
              "\n",
              "  const next = steps.next(outputElement.lastPromiseValue);\n",
              "  return Promise.resolve(next.value.promise).then((value) => {\n",
              "    // Cache the last promise value to make it available to the next\n",
              "    // step of the generator.\n",
              "    outputElement.lastPromiseValue = value;\n",
              "    return next.value.response;\n",
              "  });\n",
              "}\n",
              "\n",
              "/**\n",
              " * Generator function which is called between each async step of the upload\n",
              " * process.\n",
              " * @param {string} inputId Element ID of the input file picker element.\n",
              " * @param {string} outputId Element ID of the output display.\n",
              " * @return {!Iterable<!Object>} Iterable of next steps.\n",
              " */\n",
              "function* uploadFilesStep(inputId, outputId) {\n",
              "  const inputElement = document.getElementById(inputId);\n",
              "  inputElement.disabled = false;\n",
              "\n",
              "  const outputElement = document.getElementById(outputId);\n",
              "  outputElement.innerHTML = '';\n",
              "\n",
              "  const pickedPromise = new Promise((resolve) => {\n",
              "    inputElement.addEventListener('change', (e) => {\n",
              "      resolve(e.target.files);\n",
              "    });\n",
              "  });\n",
              "\n",
              "  const cancel = document.createElement('button');\n",
              "  inputElement.parentElement.appendChild(cancel);\n",
              "  cancel.textContent = 'Cancel upload';\n",
              "  const cancelPromise = new Promise((resolve) => {\n",
              "    cancel.onclick = () => {\n",
              "      resolve(null);\n",
              "    };\n",
              "  });\n",
              "\n",
              "  // Wait for the user to pick the files.\n",
              "  const files = yield {\n",
              "    promise: Promise.race([pickedPromise, cancelPromise]),\n",
              "    response: {\n",
              "      action: 'starting',\n",
              "    }\n",
              "  };\n",
              "\n",
              "  cancel.remove();\n",
              "\n",
              "  // Disable the input element since further picks are not allowed.\n",
              "  inputElement.disabled = true;\n",
              "\n",
              "  if (!files) {\n",
              "    return {\n",
              "      response: {\n",
              "        action: 'complete',\n",
              "      }\n",
              "    };\n",
              "  }\n",
              "\n",
              "  for (const file of files) {\n",
              "    const li = document.createElement('li');\n",
              "    li.append(span(file.name, {fontWeight: 'bold'}));\n",
              "    li.append(span(\n",
              "        `(${file.type || 'n/a'}) - ${file.size} bytes, ` +\n",
              "        `last modified: ${\n",
              "            file.lastModifiedDate ? file.lastModifiedDate.toLocaleDateString() :\n",
              "                                    'n/a'} - `));\n",
              "    const percent = span('0% done');\n",
              "    li.appendChild(percent);\n",
              "\n",
              "    outputElement.appendChild(li);\n",
              "\n",
              "    const fileDataPromise = new Promise((resolve) => {\n",
              "      const reader = new FileReader();\n",
              "      reader.onload = (e) => {\n",
              "        resolve(e.target.result);\n",
              "      };\n",
              "      reader.readAsArrayBuffer(file);\n",
              "    });\n",
              "    // Wait for the data to be ready.\n",
              "    let fileData = yield {\n",
              "      promise: fileDataPromise,\n",
              "      response: {\n",
              "        action: 'continue',\n",
              "      }\n",
              "    };\n",
              "\n",
              "    // Use a chunked sending to avoid message size limits. See b/62115660.\n",
              "    let position = 0;\n",
              "    do {\n",
              "      const length = Math.min(fileData.byteLength - position, MAX_PAYLOAD_SIZE);\n",
              "      const chunk = new Uint8Array(fileData, position, length);\n",
              "      position += length;\n",
              "\n",
              "      const base64 = btoa(String.fromCharCode.apply(null, chunk));\n",
              "      yield {\n",
              "        response: {\n",
              "          action: 'append',\n",
              "          file: file.name,\n",
              "          data: base64,\n",
              "        },\n",
              "      };\n",
              "\n",
              "      let percentDone = fileData.byteLength === 0 ?\n",
              "          100 :\n",
              "          Math.round((position / fileData.byteLength) * 100);\n",
              "      percent.textContent = `${percentDone}% done`;\n",
              "\n",
              "    } while (position < fileData.byteLength);\n",
              "  }\n",
              "\n",
              "  // All done.\n",
              "  yield {\n",
              "    response: {\n",
              "      action: 'complete',\n",
              "    }\n",
              "  };\n",
              "}\n",
              "\n",
              "scope.google = scope.google || {};\n",
              "scope.google.colab = scope.google.colab || {};\n",
              "scope.google.colab._files = {\n",
              "  _uploadFiles,\n",
              "  _uploadFilesContinue,\n",
              "};\n",
              "})(self);\n",
              "</script> "
            ]
          },
          "metadata": {}
        },
        {
          "output_type": "stream",
          "name": "stdout",
          "text": [
            "Saving 1.6MESH_0.2499.csv to 1.6MESH_0.2499 (1).csv\n",
            "Saving 2.2MESH_0.2499.csv to 2.2MESH_0.2499 (1).csv\n",
            "Saving 2.85MESH_0.2499.csv to 2.85MESH_0.2499 (1).csv\n",
            "Saving 3.25MESH.csv to 3.25MESH (1).csv\n"
          ]
        }
      ],
      "source": [
        "from google.colab import files\n",
        "myfile = files.upload()"
      ]
    },
    {
      "cell_type": "code",
      "source": [
        "import io\n",
        "import pandas as pd"
      ],
      "metadata": {
        "id": "6U5zuxwBH2bp"
      },
      "execution_count": null,
      "outputs": []
    },
    {
      "cell_type": "code",
      "source": [
        "mesh1_6 = pd.read_csv(io.BytesIO(myfile['1.6MESH_0.2499.csv']))\n",
        "mesh2_2 = pd.read_csv(io.BytesIO(myfile['2.2MESH_0.2499.csv']))\n",
        "mesh2_85 = pd.read_csv(io.BytesIO(myfile['2.85MESH_0.2499.csv']))\n",
        "mesh3_25 = pd.read_csv(io.BytesIO(myfile['3.25MESH.csv']))\n"
      ],
      "metadata": {
        "id": "B_6g9KSfH4S7"
      },
      "execution_count": null,
      "outputs": []
    },
    {
      "cell_type": "code",
      "source": [
        "print(mesh1_6)\n",
        "print(mesh2_2)\n",
        "print(mesh2_85)\n",
        "print(mesh3_25)"
      ],
      "metadata": {
        "id": "nnhdKmYtH5hi",
        "colab": {
          "base_uri": "https://localhost:8080/"
        },
        "outputId": "8a21cc78-f817-4f09-f19e-bb71e60441c4"
      },
      "execution_count": null,
      "outputs": [
        {
          "output_type": "stream",
          "name": "stdout",
          "text": [
            "          f         m\n",
            "0   0.24990  1.680732\n",
            "1   0.33728  0.463142\n",
            "2   0.42465  0.532583\n",
            "3   0.51202  0.474450\n",
            "4   0.59940  0.232676\n",
            "5   0.68677  0.022000\n",
            "6   0.77414  0.035200\n",
            "7   0.86152  0.036200\n",
            "8   0.94889  0.041600\n",
            "9   1.03626  0.038200\n",
            "10  1.12364  0.013400\n",
            "11  1.21101  0.004330\n",
            "12  1.29838  0.004630\n",
            "13  1.38576  0.003350\n",
            "14  1.47313  0.000979\n",
            "15  1.56051  0.000377\n",
            "16  1.64788  0.000611\n",
            "17  1.73525  0.000398\n",
            "18  1.82263  0.000154\n",
            "19  1.91000  0.000117\n",
            "          f         m\n",
            "0   0.24990  1.690538\n",
            "1   0.33728  0.462363\n",
            "2   0.42465  0.532280\n",
            "3   0.51202  0.474562\n",
            "4   0.59940  0.232574\n",
            "5   0.68677  0.021700\n",
            "6   0.77414  0.035400\n",
            "7   0.86152  0.036300\n",
            "8   0.94889  0.041700\n",
            "9   1.03626  0.038200\n",
            "10  1.12364  0.013400\n",
            "11  1.21101  0.004370\n",
            "12  1.29838  0.004600\n",
            "13  1.38576  0.003350\n",
            "14  1.47313  0.000895\n",
            "15  1.56051  0.000384\n",
            "16  1.64788  0.000616\n",
            "17  1.73525  0.000407\n",
            "18  1.82263  0.000174\n",
            "19  1.91000  0.000114\n",
            "          f         m\n",
            "0   0.24990  1.673388\n",
            "1   0.33728  0.462226\n",
            "2   0.42465  0.532234\n",
            "3   0.51202  0.475071\n",
            "4   0.59940  0.233144\n",
            "5   0.68677  0.021900\n",
            "6   0.77414  0.035300\n",
            "7   0.86152  0.036400\n",
            "8   0.94889  0.041700\n",
            "9   1.03626  0.038300\n",
            "10  1.12364  0.013400\n",
            "11  1.21101  0.004390\n",
            "12  1.29838  0.004590\n",
            "13  1.38576  0.003340\n",
            "14  1.47313  0.000779\n",
            "15  1.56051  0.000390\n",
            "16  1.64788  0.000621\n",
            "17  1.73525  0.000418\n",
            "18  1.82263  0.000195\n",
            "19  1.91000  0.000112\n",
            "          f         m\n",
            "0   0.24990  1.694057\n",
            "1   0.33728  0.461608\n",
            "2   0.42465  0.531858\n",
            "3   0.51202  0.474636\n",
            "4   0.59940  0.232726\n",
            "5   0.68677  0.021500\n",
            "6   0.77414  0.035500\n",
            "7   0.86152  0.036400\n",
            "8   0.94889  0.041800\n",
            "9   1.03626  0.038300\n",
            "10  1.12364  0.013400\n",
            "11  1.21101  0.004400\n",
            "12  1.29838  0.004600\n",
            "13  1.38576  0.003340\n",
            "14  1.47313  0.000745\n",
            "15  1.56051  0.000400\n",
            "16  1.64788  0.000626\n",
            "17  1.73525  0.000427\n",
            "18  1.82263  0.000211\n",
            "19  1.91000  0.000106\n"
          ]
        }
      ]
    },
    {
      "cell_type": "code",
      "source": [
        "\n",
        "t_16 = mesh1_6['f']\n",
        "m_16 = mesh1_6['m']\n",
        "\n",
        "t_22 = mesh2_2['f']\n",
        "m_22 = mesh2_2['m']\n",
        "\n",
        "t_285 = mesh2_85['f']\n",
        "m_285 = mesh2_85['m']\n",
        "\n",
        "t_325 = mesh3_25['f']\n",
        "m_325 = mesh3_25['m']\n"
      ],
      "metadata": {
        "id": "Cxx6CqyAH8H1"
      },
      "execution_count": null,
      "outputs": []
    },
    {
      "cell_type": "code",
      "source": [
        "import matplotlib.pyplot as plt"
      ],
      "metadata": {
        "id": "eGYAqR5OH-VJ"
      },
      "execution_count": null,
      "outputs": []
    },
    {
      "cell_type": "code",
      "source": [
        "plt.plot(t_16, m_16, label='mesh_1.6')\n",
        "plt.plot(t_22, m_22, label='mesh_2.2')\n",
        "plt.plot(t_285, m_285, label='mesh_2.85')\n",
        "plt.plot(t_325, m_325, label='mesh_3.25')\n",
        "\n",
        "\n",
        "\n",
        "plt.xlabel('Frequency(rad/s)')\n",
        "plt.ylabel('RAO')\n",
        "plt.legend(loc='lower right')\n",
        "\n",
        "\n",
        "plt.show()"
      ],
      "metadata": {
        "id": "OmnyrqD-H_s-",
        "colab": {
          "base_uri": "https://localhost:8080/",
          "height": 280
        },
        "outputId": "27d8fdbd-4c23-483a-ec2d-37a4dbfae2ed"
      },
      "execution_count": null,
      "outputs": [
        {
          "output_type": "display_data",
          "data": {
            "text/plain": [
              "<Figure size 432x288 with 1 Axes>"
            ],
            "image/png": "[encoded data removed]"
          },
          "metadata": {
            "needs_background": "light"
          }
        }
      ]
    }
  ]
}