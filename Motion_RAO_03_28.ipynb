{
  "nbformat": 4,
  "nbformat_minor": 0,
  "metadata": {
    "colab": {
      "provenance": [],
      "authorship_tag": "ABX9TyMjbnNqy6UDvr27WatbabSf",
      "include_colab_link": true
    },
    "kernelspec": {
      "name": "python3",
      "display_name": "Python 3"
    },
    "language_info": {
      "name": "python"
    }
  },
  "cells": [
    {
      "cell_type": "markdown",
      "metadata": {
        "id": "view-in-github",
        "colab_type": "text"
      },
      "source": [
        "<a href=\"https://colab.research.google.com/github/suajeong52/heaveMPM/blob/main/Motion_RAO_03_28.ipynb\" target=\"_parent\"><img src=\"https://colab.research.google.com/assets/colab-badge.svg\" alt=\"Open In Colab\"/></a>"
      ]
    },
    {
      "cell_type": "markdown",
      "source": [
        "**데이터 불러오기**"
      ],
      "metadata": {
        "id": "n0EjEZlH0ars"
      }
    },
    {
      "cell_type": "code",
      "execution_count": 1,
      "metadata": {
        "colab": {
          "base_uri": "https://localhost:8080/",
          "height": 183
        },
        "id": "qFpCM6PlG15t",
        "outputId": "e8c82f92-3ba9-4d1e-af3f-93dc3bbbb1eb"
      },
      "outputs": [
        {
          "output_type": "display_data",
          "data": {
            "text/plain": [
              "<IPython.core.display.HTML object>"
            ],
            "text/html": [
              "\n",
              "     <input type=\"file\" id=\"files-1ad54fc5-ed2f-4100-9856-36a31725a4fe\" name=\"files[]\" multiple disabled\n",
              "        style=\"border:none\" />\n",
              "     <output id=\"result-1ad54fc5-ed2f-4100-9856-36a31725a4fe\">\n",
              "      Upload widget is only available when the cell has been executed in the\n",
              "      current browser session. Please rerun this cell to enable.\n",
              "      </output>\n",
              "      <script>// Copyright 2017 Google LLC\n",
              "//\n",
              "// Licensed under the Apache License, Version 2.0 (the \"License\");\n",
              "// you may not use this file except in compliance with the License.\n",
              "// You may obtain a copy of the License at\n",
              "//\n",
              "//      http://www.apache.org/licenses/LICENSE-2.0\n",
              "//\n",
              "// Unless required by applicable law or agreed to in writing, software\n",
              "// distributed under the License is distributed on an \"AS IS\" BASIS,\n",
              "// WITHOUT WARRANTIES OR CONDITIONS OF ANY KIND, either express or implied.\n",
              "// See the License for the specific language governing permissions and\n",
              "// limitations under the License.\n",
              "\n",
              "/**\n",
              " * @fileoverview Helpers for google.colab Python module.\n",
              " */\n",
              "(function(scope) {\n",
              "function span(text, styleAttributes = {}) {\n",
              "  const element = document.createElement('span');\n",
              "  element.textContent = text;\n",
              "  for (const key of Object.keys(styleAttributes)) {\n",
              "    element.style[key] = styleAttributes[key];\n",
              "  }\n",
              "  return element;\n",
              "}\n",
              "\n",
              "// Max number of bytes which will be uploaded at a time.\n",
              "const MAX_PAYLOAD_SIZE = 100 * 1024;\n",
              "\n",
              "function _uploadFiles(inputId, outputId) {\n",
              "  const steps = uploadFilesStep(inputId, outputId);\n",
              "  const outputElement = document.getElementById(outputId);\n",
              "  // Cache steps on the outputElement to make it available for the next call\n",
              "  // to uploadFilesContinue from Python.\n",
              "  outputElement.steps = steps;\n",
              "\n",
              "  return _uploadFilesContinue(outputId);\n",
              "}\n",
              "\n",
              "// This is roughly an async generator (not supported in the browser yet),\n",
              "// where there are multiple asynchronous steps and the Python side is going\n",
              "// to poll for completion of each step.\n",
              "// This uses a Promise to block the python side on completion of each step,\n",
              "// then passes the result of the previous step as the input to the next step.\n",
              "function _uploadFilesContinue(outputId) {\n",
              "  const outputElement = document.getElementById(outputId);\n",
              "  const steps = outputElement.steps;\n",
              "\n",
              "  const next = steps.next(outputElement.lastPromiseValue);\n",
              "  return Promise.resolve(next.value.promise).then((value) => {\n",
              "    // Cache the last promise value to make it available to the next\n",
              "    // step of the generator.\n",
              "    outputElement.lastPromiseValue = value;\n",
              "    return next.value.response;\n",
              "  });\n",
              "}\n",
              "\n",
              "/**\n",
              " * Generator function which is called between each async step of the upload\n",
              " * process.\n",
              " * @param {string} inputId Element ID of the input file picker element.\n",
              " * @param {string} outputId Element ID of the output display.\n",
              " * @return {!Iterable<!Object>} Iterable of next steps.\n",
              " */\n",
              "function* uploadFilesStep(inputId, outputId) {\n",
              "  const inputElement = document.getElementById(inputId);\n",
              "  inputElement.disabled = false;\n",
              "\n",
              "  const outputElement = document.getElementById(outputId);\n",
              "  outputElement.innerHTML = '';\n",
              "\n",
              "  const pickedPromise = new Promise((resolve) => {\n",
              "    inputElement.addEventListener('change', (e) => {\n",
              "      resolve(e.target.files);\n",
              "    });\n",
              "  });\n",
              "\n",
              "  const cancel = document.createElement('button');\n",
              "  inputElement.parentElement.appendChild(cancel);\n",
              "  cancel.textContent = 'Cancel upload';\n",
              "  const cancelPromise = new Promise((resolve) => {\n",
              "    cancel.onclick = () => {\n",
              "      resolve(null);\n",
              "    };\n",
              "  });\n",
              "\n",
              "  // Wait for the user to pick the files.\n",
              "  const files = yield {\n",
              "    promise: Promise.race([pickedPromise, cancelPromise]),\n",
              "    response: {\n",
              "      action: 'starting',\n",
              "    }\n",
              "  };\n",
              "\n",
              "  cancel.remove();\n",
              "\n",
              "  // Disable the input element since further picks are not allowed.\n",
              "  inputElement.disabled = true;\n",
              "\n",
              "  if (!files) {\n",
              "    return {\n",
              "      response: {\n",
              "        action: 'complete',\n",
              "      }\n",
              "    };\n",
              "  }\n",
              "\n",
              "  for (const file of files) {\n",
              "    const li = document.createElement('li');\n",
              "    li.append(span(file.name, {fontWeight: 'bold'}));\n",
              "    li.append(span(\n",
              "        `(${file.type || 'n/a'}) - ${file.size} bytes, ` +\n",
              "        `last modified: ${\n",
              "            file.lastModifiedDate ? file.lastModifiedDate.toLocaleDateString() :\n",
              "                                    'n/a'} - `));\n",
              "    const percent = span('0% done');\n",
              "    li.appendChild(percent);\n",
              "\n",
              "    outputElement.appendChild(li);\n",
              "\n",
              "    const fileDataPromise = new Promise((resolve) => {\n",
              "      const reader = new FileReader();\n",
              "      reader.onload = (e) => {\n",
              "        resolve(e.target.result);\n",
              "      };\n",
              "      reader.readAsArrayBuffer(file);\n",
              "    });\n",
              "    // Wait for the data to be ready.\n",
              "    let fileData = yield {\n",
              "      promise: fileDataPromise,\n",
              "      response: {\n",
              "        action: 'continue',\n",
              "      }\n",
              "    };\n",
              "\n",
              "    // Use a chunked sending to avoid message size limits. See b/62115660.\n",
              "    let position = 0;\n",
              "    do {\n",
              "      const length = Math.min(fileData.byteLength - position, MAX_PAYLOAD_SIZE);\n",
              "      const chunk = new Uint8Array(fileData, position, length);\n",
              "      position += length;\n",
              "\n",
              "      const base64 = btoa(String.fromCharCode.apply(null, chunk));\n",
              "      yield {\n",
              "        response: {\n",
              "          action: 'append',\n",
              "          file: file.name,\n",
              "          data: base64,\n",
              "        },\n",
              "      };\n",
              "\n",
              "      let percentDone = fileData.byteLength === 0 ?\n",
              "          100 :\n",
              "          Math.round((position / fileData.byteLength) * 100);\n",
              "      percent.textContent = `${percentDone}% done`;\n",
              "\n",
              "    } while (position < fileData.byteLength);\n",
              "  }\n",
              "\n",
              "  // All done.\n",
              "  yield {\n",
              "    response: {\n",
              "      action: 'complete',\n",
              "    }\n",
              "  };\n",
              "}\n",
              "\n",
              "scope.google = scope.google || {};\n",
              "scope.google.colab = scope.google.colab || {};\n",
              "scope.google.colab._files = {\n",
              "  _uploadFiles,\n",
              "  _uploadFilesContinue,\n",
              "};\n",
              "})(self);\n",
              "</script> "
            ]
          },
          "metadata": {}
        },
        {
          "output_type": "stream",
          "name": "stdout",
          "text": [
            "Saving 1.6mesh_motionrao.csv to 1.6mesh_motionrao.csv\n",
            "Saving 2.85mesh_motionrao.csv to 2.85mesh_motionrao.csv\n",
            "Saving 4.5mesh_motionrao.csv to 4.5mesh_motionrao.csv\n",
            "Saving 6mesh_motionrao.csv to 6mesh_motionrao.csv\n"
          ]
        }
      ],
      "source": [
        "from google.colab import files\n",
        "myfile = files.upload()"
      ]
    },
    {
      "cell_type": "code",
      "source": [
        "import io\n",
        "import pandas as pd"
      ],
      "metadata": {
        "id": "6U5zuxwBH2bp"
      },
      "execution_count": 2,
      "outputs": []
    },
    {
      "cell_type": "code",
      "source": [
        "mesh1_6 = pd.read_csv(io.BytesIO(myfile['1.6mesh_motionrao.csv']))\n",
        "mesh2_85 = pd.read_csv(io.BytesIO(myfile['2.85mesh_motionrao.csv']))\n",
        "mesh4_5 = pd.read_csv(io.BytesIO(myfile['4.5mesh_motionrao.csv']))\n",
        "mesh6 = pd.read_csv(io.BytesIO(myfile['6mesh_motionrao.csv']))\n"
      ],
      "metadata": {
        "id": "B_6g9KSfH4S7"
      },
      "execution_count": 3,
      "outputs": []
    },
    {
      "cell_type": "code",
      "source": [
        "print(mesh1_6)\n",
        "print(mesh2_85)\n",
        "print(mesh4_5)\n",
        "print(mesh6)"
      ],
      "metadata": {
        "id": "nnhdKmYtH5hi",
        "colab": {
          "base_uri": "https://localhost:8080/"
        },
        "outputId": "db08dadc-c246-4d16-d90c-c1c053bfe51b"
      },
      "execution_count": 4,
      "outputs": [
        {
          "output_type": "stream",
          "name": "stdout",
          "text": [
            "          f        m\n",
            "0   0.01836  0.00000\n",
            "1   0.08147  0.00000\n",
            "2   0.14457  0.00000\n",
            "3   0.16752  0.00000\n",
            "4   0.18330  0.00000\n",
            "..      ...      ...\n",
            "82  1.38867  0.00302\n",
            "83  1.48400  0.00150\n",
            "84  1.52433  0.00142\n",
            "85  1.56757  0.00134\n",
            "86  1.61081  0.00127\n",
            "\n",
            "[87 rows x 2 columns]\n",
            "          f        m\n",
            "0   0.01835  0.00000\n",
            "1   0.08141  0.00000\n",
            "2   0.14447  0.00000\n",
            "3   0.16741  0.00000\n",
            "4   0.18317  0.00000\n",
            "..      ...      ...\n",
            "82  1.37678  0.00337\n",
            "83  1.46961  0.00148\n",
            "84  1.51091  0.00140\n",
            "85  1.56001  0.00131\n",
            "86  1.60910  0.00123\n",
            "\n",
            "[87 rows x 2 columns]\n",
            "          f        m\n",
            "0   0.01824  0.00000\n",
            "1   0.08092  0.00000\n",
            "2   0.14360  0.00000\n",
            "3   0.16640  0.00000\n",
            "4   0.18207  0.00000\n",
            "..      ...      ...\n",
            "82  1.34427  0.00360\n",
            "83  1.43023  0.00170\n",
            "84  1.47420  0.00137\n",
            "85  1.53932  0.00125\n",
            "86  1.60444  0.00115\n",
            "\n",
            "[87 rows x 2 columns]\n",
            "          f         m\n",
            "0   0.01814  0.000000\n",
            "1   0.08046  0.000000\n",
            "2   0.14279  0.000000\n",
            "3   0.16546  0.000000\n",
            "4   0.18104  0.000000\n",
            "..      ...       ...\n",
            "82  1.34621  0.003470\n",
            "83  1.43258  0.001400\n",
            "84  1.47639  0.001130\n",
            "85  1.54055  0.001030\n",
            "86  1.60472  0.000951\n",
            "\n",
            "[87 rows x 2 columns]\n"
          ]
        }
      ]
    },
    {
      "cell_type": "code",
      "source": [
        "\n",
        "t_16 = mesh1_6['f']\n",
        "m_16 = mesh1_6['m']\n",
        "\n",
        "t_285 = mesh2_85['f']\n",
        "m_285 = mesh2_85['m']\n",
        "\n",
        "t_45 = mesh4_5['f']\n",
        "m_45 = mesh4_5['m']\n",
        "\n",
        "t_6 = mesh6['f']\n",
        "m_6 = mesh6['m']\n"
      ],
      "metadata": {
        "id": "Cxx6CqyAH8H1"
      },
      "execution_count": 5,
      "outputs": []
    },
    {
      "cell_type": "code",
      "source": [
        "import matplotlib.pyplot as plt"
      ],
      "metadata": {
        "id": "eGYAqR5OH-VJ"
      },
      "execution_count": 6,
      "outputs": []
    },
    {
      "cell_type": "code",
      "source": [
        "plt.plot(t_16, m_16, label='mesh_1.6')\n",
        "plt.plot(t_285, m_285, label='mesh_2.85')\n",
        "plt.plot(t_45, m_45, label='mesh_4.5')\n",
        "plt.plot(t_6, m_6, label='mesh_6')\n",
        "\n",
        "\n",
        "\n",
        "plt.xlabel('Frequency(rad/s)')\n",
        "plt.ylabel('RAO')\n",
        "plt.legend(loc='lower right')\n",
        "\n",
        "\n",
        "plt.show()"
      ],
      "metadata": {
        "id": "OmnyrqD-H_s-",
        "colab": {
          "base_uri": "https://localhost:8080/",
          "height": 279
        },
        "outputId": "80d2c1c0-3dde-4f6e-fdb8-cac391ba32c4"
      },
      "execution_count": 7,
      "outputs": [
        {
          "output_type": "display_data",
          "data": {
            "text/plain": [
              "<Figure size 432x288 with 1 Axes>"
            ],
            "image/png": "[encoded data removed]"
          },
          "metadata": {
            "needs_background": "light"
          }
        }
      ]
    },
    {
      "cell_type": "code",
      "source": [],
      "metadata": {
        "id": "fJ2NzOIdvbOQ"
      },
      "execution_count": null,
      "outputs": []
    }
  ]
}