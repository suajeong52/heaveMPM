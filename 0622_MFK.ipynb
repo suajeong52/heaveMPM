{
  "nbformat": 4,
  "nbformat_minor": 0,
  "metadata": {
    "colab": {
      "provenance": [],
      "authorship_tag": "ABX9TyPGJsvvB1gFOJmbBORmgQwW",
      "include_colab_link": true
    },
    "kernelspec": {
      "name": "python3",
      "display_name": "Python 3"
    },
    "language_info": {
      "name": "python"
    }
  },
  "cells": [
    {
      "cell_type": "markdown",
      "metadata": {
        "id": "view-in-github",
        "colab_type": "text"
      },
      "source": [
        "<a href=\"https://colab.research.google.com/github/suajeong52/heaveMPM/blob/main/0622_MFK.ipynb\" target=\"_parent\"><img src=\"https://colab.research.google.com/assets/colab-badge.svg\" alt=\"Open In Colab\"/></a>"
      ]
    },
    {
      "cell_type": "code",
      "source": [
        "!pip install smt"
      ],
      "metadata": {
        "id": "SNUzTImGgjAL",
        "colab": {
          "base_uri": "https://localhost:8080/"
        },
        "outputId": "f200d7ca-56dc-49e3-d79b-f456b3762e15"
      },
      "execution_count": null,
      "outputs": [
        {
          "output_type": "stream",
          "name": "stdout",
          "text": [
            "Looking in indexes: https://pypi.org/simple, https://us-python.pkg.dev/colab-wheels/public/simple/\n",
            "Collecting smt\n",
            "  Downloading smt-1.3.0.tar.gz (256 kB)\n",
            "\u001b[2K     \u001b[90m━━━━━━━━━━━━━━━━━━━━━━━━━━━━━━━━━━━━━━\u001b[0m \u001b[32m256.1/256.1 kB\u001b[0m \u001b[31m11.1 MB/s\u001b[0m eta \u001b[36m0:00:00\u001b[0m\n",
            "\u001b[?25h  Installing build dependencies ... \u001b[?25l\u001b[?25hdone\n",
            "  Getting requirements to build wheel ... \u001b[?25l\u001b[?25hdone\n",
            "  Preparing metadata (pyproject.toml) ... \u001b[?25l\u001b[?25hdone\n",
            "Requirement already satisfied: scikit-learn in /usr/local/lib/python3.10/dist-packages (from smt) (1.2.2)\n",
            "Collecting pyDOE2 (from smt)\n",
            "  Downloading pyDOE2-1.3.0.tar.gz (19 kB)\n",
            "  Preparing metadata (setup.py) ... \u001b[?25l\u001b[?25hdone\n",
            "Requirement already satisfied: scipy in /usr/local/lib/python3.10/dist-packages (from smt) (1.10.1)\n",
            "Requirement already satisfied: numpy in /usr/local/lib/python3.10/dist-packages (from pyDOE2->smt) (1.22.4)\n",
            "Requirement already satisfied: joblib>=1.1.1 in /usr/local/lib/python3.10/dist-packages (from scikit-learn->smt) (1.2.0)\n",
            "Requirement already satisfied: threadpoolctl>=2.0.0 in /usr/local/lib/python3.10/dist-packages (from scikit-learn->smt) (3.1.0)\n",
            "Building wheels for collected packages: smt, pyDOE2\n",
            "  Building wheel for smt (pyproject.toml) ... \u001b[?25l\u001b[?25hdone\n",
            "  Created wheel for smt: filename=smt-1.3.0-cp310-cp310-linux_x86_64.whl size=654483 sha256=423f0d1ef6b85bd50afcefc3eb9094733be4050b763f13bb6a40a49ceb1718f2\n",
            "  Stored in directory: /root/.cache/pip/wheels/3b/d3/c7/5455cf3d853cb05d5b2e50ffc8085af8f2a31e15b4718a3bd9\n",
            "  Building wheel for pyDOE2 (setup.py) ... \u001b[?25l\u001b[?25hdone\n",
            "  Created wheel for pyDOE2: filename=pyDOE2-1.3.0-py3-none-any.whl size=25521 sha256=5409f84ba7a9412ccad5dffd8df9d7a9cbbb35ea8d0d45a819b8fb1db90baa10\n",
            "  Stored in directory: /root/.cache/pip/wheels/46/1f/29/6fda5c72f950841e39147ae603780ee913a62f977b4ad47ee4\n",
            "Successfully built smt pyDOE2\n",
            "Installing collected packages: pyDOE2, smt\n",
            "Successfully installed pyDOE2-1.3.0 smt-1.3.0\n"
          ]
        }
      ]
    },
    {
      "cell_type": "code",
      "source": [
        "import numpy as np\n",
        "from smt.sampling_methods import LHS\n",
        "from smt.utils import compute_rms_error\n",
        "from smt.applications import MFK\n",
        "import matplotlib.pyplot as plt\n",
        "import pandas as pd"
      ],
      "metadata": {
        "id": "2hlq09hhgh2K"
      },
      "execution_count": null,
      "outputs": []
    },
    {
      "cell_type": "code",
      "source": [
        "xH = pd.read_excel('xt_H_0619.xlsx', usecols=[1]).values\n",
        "xL = pd.read_excel('xt_L_0619.xlsx', usecols=[1]).values\n",
        "\n",
        "yH = pd.read_excel('mpmtrain_high_20.xlsx', usecols=[1]).values\n",
        "yL = pd.read_excel('mpmtrain_low_40.xlsx', usecols=[1]).values\n",
        "\n",
        "\n",
        "\n",
        "# Sample the test points using LHS\n",
        "xlimits = np.array([[19.00, 21.00]])\n",
        "sampling = LHS(xlimits=xlimits, criterion='ese', random_state=1)\n",
        "\n",
        "test_num = 50\n",
        "X_test = sampling(test_num)\n",
        "\n",
        "\n",
        "# Fit the MFK model\n",
        "sm = MFK(theta0=xH.shape[1] * [1.0], print_prediction=True)\n",
        "\n",
        "\n",
        "sm.set_training_values(xH, yH)\n",
        "# high-fidelity dataset without name\n",
        "sm.set_training_values(xL, yL, name=0)\n",
        "\n",
        "\n",
        "sm.train()\n",
        "\n",
        "# Predict on the test points\n",
        "y_pred= sm.predict_values(X_test)\n",
        "mse = sm.predict_variances(X_test)\n",
        "derivs = sm.predict_derivatives(X_test, kx=0)\n"
      ],
      "metadata": {
        "colab": {
          "base_uri": "https://localhost:8080/"
        },
        "id": "2TJl1unJlLQR",
        "outputId": "941f7246-0619-41e7-d194-754998cd0a7e"
      },
      "execution_count": null,
      "outputs": [
        {
          "output_type": "stream",
          "name": "stdout",
          "text": [
            "___________________________________________________________________________\n",
            "   \n",
            "                                    MFK\n",
            "___________________________________________________________________________\n",
            "   \n",
            " Problem size\n",
            "   \n",
            "      # training points.        : 20\n",
            "   \n",
            "___________________________________________________________________________\n",
            "   \n",
            " Training\n",
            "   \n",
            "   Training ...\n",
            "   Training - done. Time (sec):  0.1324546\n",
            "___________________________________________________________________________\n",
            "   \n",
            " Evaluation\n",
            "   \n",
            "      # eval points. : 50\n",
            "   \n",
            "   Predicting ...\n",
            "   Predicting - done. Time (sec):  0.0008898\n",
            "   \n",
            "   Prediction time/pt. (sec) :  0.0000178\n",
            "   \n",
            "___________________________________________________________________________\n",
            "   \n",
            " Evaluation\n",
            "   \n",
            "      # eval points. : 50\n",
            "   \n",
            "   Predicting ...\n",
            "   Predicting - done. Time (sec):  0.0007639\n",
            "   \n",
            "   Prediction time/pt. (sec) :  0.0000153\n",
            "   \n"
          ]
        }
      ]
    },
    {
      "cell_type": "code",
      "source": [
        "plt.figure()\n",
        "\n",
        "#plt.plot(X_test, y_pred, label=\"reference\")\n",
        "plt.scatter(X_test, y_pred, marker=\"x\",color=\"b\", label=\"mean_gp\")\n",
        "plt.scatter(xH, yH, marker=\"o\", color=\"k\", label=\"HF doe\")\n",
        "plt.scatter(xL, yL, marker=\"*\", color=\"g\", label=\"LF doe\")\n",
        "\n",
        "plt.legend(loc=0)\n",
        "#plt.ylim(-10, 17)\n",
        "#plt.xlim(-0.1, 1.1)\n",
        "plt.xlabel(r\"$x$\")\n",
        "plt.ylabel(r\"$y$\")\n",
        "\n",
        "plt.show()"
      ],
      "metadata": {
        "colab": {
          "base_uri": "https://localhost:8080/",
          "height": 449
        },
        "id": "7aJNupd8l23k",
        "outputId": "c13bbd32-4f97-43d3-dfb7-d4114e87542d"
      },
      "execution_count": null,
      "outputs": [
        {
          "output_type": "display_data",
          "data": {
            "text/plain": [
              "<Figure size 640x480 with 1 Axes>"
            ],
            "image/png": "[encoded data removed]"
          },
          "metadata": {}
        }
      ]
    },
    {
      "cell_type": "code",
      "source": [
        "print(X_test)\n",
        "print(y_pred)"
      ],
      "metadata": {
        "colab": {
          "base_uri": "https://localhost:8080/"
        },
        "id": "Ozibm7261iCA",
        "outputId": "310196c9-ccca-4461-ef79-8e6191761b6d"
      },
      "execution_count": null,
      "outputs": [
        {
          "output_type": "stream",
          "name": "stdout",
          "text": [
            "[[19.20369354]\n",
            " [20.96520114]\n",
            " [19.38155267]\n",
            " [19.89253697]\n",
            " [20.34132661]\n",
            " [19.65669219]\n",
            " [20.04340177]\n",
            " [19.5551247 ]\n",
            " [20.25684431]\n",
            " [20.46746004]\n",
            " [20.41262063]\n",
            " [19.9476929 ]\n",
            " [20.1951257 ]\n",
            " [19.16587024]\n",
            " [20.08156219]\n",
            " [20.66992663]\n",
            " [20.87634382]\n",
            " [20.81791574]\n",
            " [20.89174457]\n",
            " [19.46740878]\n",
            " [19.48817809]\n",
            " [20.69121776]\n",
            " [20.59000577]\n",
            " [19.87873046]\n",
            " [19.83202978]\n",
            " [19.24745041]\n",
            " [19.06881298]\n",
            " [20.76412904]\n",
            " [19.01668088]\n",
            " [19.1320933 ]\n",
            " [20.93151101]\n",
            " [19.70234759]\n",
            " [19.72561548]\n",
            " [20.63955444]\n",
            " [19.5610955 ]\n",
            " [19.41676778]\n",
            " [20.75157117]\n",
            " [20.12679322]\n",
            " [19.29382243]\n",
            " [19.08000457]\n",
            " [20.03578427]\n",
            " [19.6268187 ]\n",
            " [19.99505557]\n",
            " [20.20393387]\n",
            " [20.38767508]\n",
            " [20.31831558]\n",
            " [19.3358707 ]\n",
            " [20.52073153]\n",
            " [19.76792406]\n",
            " [20.51338503]]\n",
            "[[0.04558045]\n",
            " [0.04690043]\n",
            " [0.0456226 ]\n",
            " [0.04605563]\n",
            " [0.04631282]\n",
            " [0.04588999]\n",
            " [0.04637666]\n",
            " [0.04597727]\n",
            " [0.04646098]\n",
            " [0.04649804]\n",
            " [0.04651762]\n",
            " [0.04624637]\n",
            " [0.04633112]\n",
            " [0.04574989]\n",
            " [0.0462549 ]\n",
            " [0.04648103]\n",
            " [0.04679015]\n",
            " [0.04685017]\n",
            " [0.04701452]\n",
            " [0.04585422]\n",
            " [0.04591553]\n",
            " [0.04672584]\n",
            " [0.04660194]\n",
            " [0.04602157]\n",
            " [0.04608202]\n",
            " [0.045669  ]\n",
            " [0.04578991]\n",
            " [0.04656406]\n",
            " [0.04557235]\n",
            " [0.04568177]\n",
            " [0.04684551]\n",
            " [0.04578186]\n",
            " [0.04612842]\n",
            " [0.04656192]\n",
            " [0.0457397 ]\n",
            " [0.04585379]\n",
            " [0.04676076]\n",
            " [0.04628939]\n",
            " [0.04579162]\n",
            " [0.04555234]\n",
            " [0.04605734]\n",
            " [0.04606625]\n",
            " [0.04630811]\n",
            " [0.04650099]\n",
            " [0.046524  ]\n",
            " [0.04646183]\n",
            " [0.0458938 ]\n",
            " [0.04662109]\n",
            " [0.04600325]\n",
            " [0.04635286]]\n"
          ]
        }
      ]
    },
    {
      "cell_type": "code",
      "source": [
        "import pandas as pd"
      ],
      "metadata": {
        "id": "GkFf4ngqBZ3w"
      },
      "execution_count": null,
      "outputs": []
    },
    {
      "cell_type": "code",
      "source": [
        "dftrain = pd.DataFrame(X_test)\n",
        "dftrain.to_excel('mpm_xtestdata_0622.xlsx', sheet_name='xtrain_sheet')"
      ],
      "metadata": {
        "id": "nZEtF8MvBTFa"
      },
      "execution_count": null,
      "outputs": []
    },
    {
      "cell_type": "code",
      "source": [
        "y_real = pd.read_excel('mpmtestdata_0622.xlsx', usecols=[1]).values\n",
        "print(y_real)"
      ],
      "metadata": {
        "colab": {
          "base_uri": "https://localhost:8080/"
        },
        "id": "P4hANAFDOfBl",
        "outputId": "e96ba302-22e5-4a3a-d8a3-6fb4f72a438f"
      },
      "execution_count": null,
      "outputs": [
        {
          "output_type": "stream",
          "name": "stdout",
          "text": [
            "[[0.04563615]\n",
            " [0.04607022]\n",
            " [0.04606842]]\n"
          ]
        }
      ]
    },
    {
      "cell_type": "code",
      "source": [
        "#mesh low로 구했을때의 정확도? 비율?\n",
        "yP = y_pred/y_real\n",
        "print(yP)"
      ],
      "metadata": {
        "colab": {
          "base_uri": "https://localhost:8080/"
        },
        "id": "G8K7D_21Oyst",
        "outputId": "8dad3012-53f9-4172-c436-6aa84ff7429b"
      },
      "execution_count": null,
      "outputs": [
        {
          "output_type": "stream",
          "name": "stdout",
          "text": [
            "[[0.99242008]\n",
            " [0.98849714]\n",
            " [0.99067566]]\n"
          ]
        }
      ]
    },
    {
      "cell_type": "code",
      "source": [],
      "metadata": {
        "id": "SWKvjuwAS4kd"
      },
      "execution_count": null,
      "outputs": []
    }
  ]
}